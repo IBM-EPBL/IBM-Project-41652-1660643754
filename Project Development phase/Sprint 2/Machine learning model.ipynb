{
  "nbformat": 4,
  "nbformat_minor": 0,
  "metadata": {
    "colab": {
      "provenance": []
    },
    "kernelspec": {
      "name": "python3",
      "display_name": "Python 3"
    },
    "language_info": {
      "name": "python"
    }
  },
  "cells": [
    {
      "cell_type": "code",
      "execution_count": 1,
      "metadata": {
        "id": "6vTGMqHJMIZj"
      },
      "outputs": [],
      "source": [
        "import pandas as pd\n",
        "import numpy as np \n",
        "from collections import Counter as c \n",
        "import matplotlib.pyplot as plt\n",
        "import seaborn as sns \n",
        "import missingno as msno \n",
        "from sklearn.metrics import accuracy_score, confusion_matrix\n",
        "from sklearn.model_selection import train_test_split \n",
        "from sklearn.preprocessing import LabelEncoder \n",
        "import pickle \n",
        "import warnings\n",
        "warnings.filterwarnings('ignore')"
      ]
    },
    {
      "cell_type": "markdown",
      "source": [
        "## Reading the dataset"
      ],
      "metadata": {
        "id": "mY52wt7o9IN3"
      }
    },
    {
      "cell_type": "code",
      "source": [
        "data=pd.read_csv(r\"chronickidneydisease.csv\")   ## Loading the dataset"
      ],
      "metadata": {
        "id": "maCK-xJsM0tP"
      },
      "execution_count": 2,
      "outputs": []
    },
    {
      "cell_type": "code",
      "source": [
        "data.head()"
      ],
      "metadata": {
        "colab": {
          "base_uri": "https://localhost:8080/",
          "height": 299
        },
        "id": "2930nVbgPJoI",
        "outputId": "b93a899f-300d-4e72-e9cf-b16c2d68d79c"
      },
      "execution_count": 28,
      "outputs": [
        {
          "output_type": "execute_result",
          "data": {
            "text/plain": [
              "    age  blood_pressure  specific_gravity  albumin  sugar  red_blood_cells  \\\n",
              "0  48.0            80.0                 3        1      0                1   \n",
              "1   7.0            50.0                 3        4      0                1   \n",
              "2  62.0            80.0                 1        2      3                1   \n",
              "3  48.0            70.0                 0        4      0                1   \n",
              "4  51.0            80.0                 1        2      0                1   \n",
              "\n",
              "   pus_cells  pus_cell_clumps  bacteria  blood_glucose_random  ...  \\\n",
              "0          1                0         0            121.000000  ...   \n",
              "1          1                0         0            148.036517  ...   \n",
              "2          1                0         0            423.000000  ...   \n",
              "3          0                1         0            117.000000  ...   \n",
              "4          1                0         0            106.000000  ...   \n",
              "\n",
              "   packed_cell_volume  white_blood_cell_count  red_blood_cell_count  \\\n",
              "0                44.0                  7800.0              5.200000   \n",
              "1                38.0                  6000.0              4.707435   \n",
              "2                31.0                  7500.0              4.707435   \n",
              "3                32.0                  6700.0              3.900000   \n",
              "4                35.0                  7300.0              4.600000   \n",
              "\n",
              "   hypertension  diabetesmellitus  coronary_artery_disease  appetite  \\\n",
              "0             1                 1                        0         0   \n",
              "1             0                 0                        0         0   \n",
              "2             0                 1                        0         1   \n",
              "3             1                 0                        0         1   \n",
              "4             0                 0                        0         0   \n",
              "\n",
              "   pedal_edema  anemia  class  \n",
              "0            0       0      0  \n",
              "1            0       0      0  \n",
              "2            0       1      0  \n",
              "3            1       1      0  \n",
              "4            0       0      0  \n",
              "\n",
              "[5 rows x 25 columns]"
            ],
            "text/html": [
              "\n",
              "  <div id=\"df-f84b43ea-e55a-4dc8-9dbc-fa0d6c25fe7b\">\n",
              "    <div class=\"colab-df-container\">\n",
              "      <div>\n",
              "<style scoped>\n",
              "    .dataframe tbody tr th:only-of-type {\n",
              "        vertical-align: middle;\n",
              "    }\n",
              "\n",
              "    .dataframe tbody tr th {\n",
              "        vertical-align: top;\n",
              "    }\n",
              "\n",
              "    .dataframe thead th {\n",
              "        text-align: right;\n",
              "    }\n",
              "</style>\n",
              "<table border=\"1\" class=\"dataframe\">\n",
              "  <thead>\n",
              "    <tr style=\"text-align: right;\">\n",
              "      <th></th>\n",
              "      <th>age</th>\n",
              "      <th>blood_pressure</th>\n",
              "      <th>specific_gravity</th>\n",
              "      <th>albumin</th>\n",
              "      <th>sugar</th>\n",
              "      <th>red_blood_cells</th>\n",
              "      <th>pus_cells</th>\n",
              "      <th>pus_cell_clumps</th>\n",
              "      <th>bacteria</th>\n",
              "      <th>blood_glucose_random</th>\n",
              "      <th>...</th>\n",
              "      <th>packed_cell_volume</th>\n",
              "      <th>white_blood_cell_count</th>\n",
              "      <th>red_blood_cell_count</th>\n",
              "      <th>hypertension</th>\n",
              "      <th>diabetesmellitus</th>\n",
              "      <th>coronary_artery_disease</th>\n",
              "      <th>appetite</th>\n",
              "      <th>pedal_edema</th>\n",
              "      <th>anemia</th>\n",
              "      <th>class</th>\n",
              "    </tr>\n",
              "  </thead>\n",
              "  <tbody>\n",
              "    <tr>\n",
              "      <th>0</th>\n",
              "      <td>48.0</td>\n",
              "      <td>80.0</td>\n",
              "      <td>3</td>\n",
              "      <td>1</td>\n",
              "      <td>0</td>\n",
              "      <td>1</td>\n",
              "      <td>1</td>\n",
              "      <td>0</td>\n",
              "      <td>0</td>\n",
              "      <td>121.000000</td>\n",
              "      <td>...</td>\n",
              "      <td>44.0</td>\n",
              "      <td>7800.0</td>\n",
              "      <td>5.200000</td>\n",
              "      <td>1</td>\n",
              "      <td>1</td>\n",
              "      <td>0</td>\n",
              "      <td>0</td>\n",
              "      <td>0</td>\n",
              "      <td>0</td>\n",
              "      <td>0</td>\n",
              "    </tr>\n",
              "    <tr>\n",
              "      <th>1</th>\n",
              "      <td>7.0</td>\n",
              "      <td>50.0</td>\n",
              "      <td>3</td>\n",
              "      <td>4</td>\n",
              "      <td>0</td>\n",
              "      <td>1</td>\n",
              "      <td>1</td>\n",
              "      <td>0</td>\n",
              "      <td>0</td>\n",
              "      <td>148.036517</td>\n",
              "      <td>...</td>\n",
              "      <td>38.0</td>\n",
              "      <td>6000.0</td>\n",
              "      <td>4.707435</td>\n",
              "      <td>0</td>\n",
              "      <td>0</td>\n",
              "      <td>0</td>\n",
              "      <td>0</td>\n",
              "      <td>0</td>\n",
              "      <td>0</td>\n",
              "      <td>0</td>\n",
              "    </tr>\n",
              "    <tr>\n",
              "      <th>2</th>\n",
              "      <td>62.0</td>\n",
              "      <td>80.0</td>\n",
              "      <td>1</td>\n",
              "      <td>2</td>\n",
              "      <td>3</td>\n",
              "      <td>1</td>\n",
              "      <td>1</td>\n",
              "      <td>0</td>\n",
              "      <td>0</td>\n",
              "      <td>423.000000</td>\n",
              "      <td>...</td>\n",
              "      <td>31.0</td>\n",
              "      <td>7500.0</td>\n",
              "      <td>4.707435</td>\n",
              "      <td>0</td>\n",
              "      <td>1</td>\n",
              "      <td>0</td>\n",
              "      <td>1</td>\n",
              "      <td>0</td>\n",
              "      <td>1</td>\n",
              "      <td>0</td>\n",
              "    </tr>\n",
              "    <tr>\n",
              "      <th>3</th>\n",
              "      <td>48.0</td>\n",
              "      <td>70.0</td>\n",
              "      <td>0</td>\n",
              "      <td>4</td>\n",
              "      <td>0</td>\n",
              "      <td>1</td>\n",
              "      <td>0</td>\n",
              "      <td>1</td>\n",
              "      <td>0</td>\n",
              "      <td>117.000000</td>\n",
              "      <td>...</td>\n",
              "      <td>32.0</td>\n",
              "      <td>6700.0</td>\n",
              "      <td>3.900000</td>\n",
              "      <td>1</td>\n",
              "      <td>0</td>\n",
              "      <td>0</td>\n",
              "      <td>1</td>\n",
              "      <td>1</td>\n",
              "      <td>1</td>\n",
              "      <td>0</td>\n",
              "    </tr>\n",
              "    <tr>\n",
              "      <th>4</th>\n",
              "      <td>51.0</td>\n",
              "      <td>80.0</td>\n",
              "      <td>1</td>\n",
              "      <td>2</td>\n",
              "      <td>0</td>\n",
              "      <td>1</td>\n",
              "      <td>1</td>\n",
              "      <td>0</td>\n",
              "      <td>0</td>\n",
              "      <td>106.000000</td>\n",
              "      <td>...</td>\n",
              "      <td>35.0</td>\n",
              "      <td>7300.0</td>\n",
              "      <td>4.600000</td>\n",
              "      <td>0</td>\n",
              "      <td>0</td>\n",
              "      <td>0</td>\n",
              "      <td>0</td>\n",
              "      <td>0</td>\n",
              "      <td>0</td>\n",
              "      <td>0</td>\n",
              "    </tr>\n",
              "  </tbody>\n",
              "</table>\n",
              "<p>5 rows × 25 columns</p>\n",
              "</div>\n",
              "      <button class=\"colab-df-convert\" onclick=\"convertToInteractive('df-f84b43ea-e55a-4dc8-9dbc-fa0d6c25fe7b')\"\n",
              "              title=\"Convert this dataframe to an interactive table.\"\n",
              "              style=\"display:none;\">\n",
              "        \n",
              "  <svg xmlns=\"http://www.w3.org/2000/svg\" height=\"24px\"viewBox=\"0 0 24 24\"\n",
              "       width=\"24px\">\n",
              "    <path d=\"M0 0h24v24H0V0z\" fill=\"none\"/>\n",
              "    <path d=\"M18.56 5.44l.94 2.06.94-2.06 2.06-.94-2.06-.94-.94-2.06-.94 2.06-2.06.94zm-11 1L8.5 8.5l.94-2.06 2.06-.94-2.06-.94L8.5 2.5l-.94 2.06-2.06.94zm10 10l.94 2.06.94-2.06 2.06-.94-2.06-.94-.94-2.06-.94 2.06-2.06.94z\"/><path d=\"M17.41 7.96l-1.37-1.37c-.4-.4-.92-.59-1.43-.59-.52 0-1.04.2-1.43.59L10.3 9.45l-7.72 7.72c-.78.78-.78 2.05 0 2.83L4 21.41c.39.39.9.59 1.41.59.51 0 1.02-.2 1.41-.59l7.78-7.78 2.81-2.81c.8-.78.8-2.07 0-2.86zM5.41 20L4 18.59l7.72-7.72 1.47 1.35L5.41 20z\"/>\n",
              "  </svg>\n",
              "      </button>\n",
              "      \n",
              "  <style>\n",
              "    .colab-df-container {\n",
              "      display:flex;\n",
              "      flex-wrap:wrap;\n",
              "      gap: 12px;\n",
              "    }\n",
              "\n",
              "    .colab-df-convert {\n",
              "      background-color: #E8F0FE;\n",
              "      border: none;\n",
              "      border-radius: 50%;\n",
              "      cursor: pointer;\n",
              "      display: none;\n",
              "      fill: #1967D2;\n",
              "      height: 32px;\n",
              "      padding: 0 0 0 0;\n",
              "      width: 32px;\n",
              "    }\n",
              "\n",
              "    .colab-df-convert:hover {\n",
              "      background-color: #E2EBFA;\n",
              "      box-shadow: 0px 1px 2px rgba(60, 64, 67, 0.3), 0px 1px 3px 1px rgba(60, 64, 67, 0.15);\n",
              "      fill: #174EA6;\n",
              "    }\n",
              "\n",
              "    [theme=dark] .colab-df-convert {\n",
              "      background-color: #3B4455;\n",
              "      fill: #D2E3FC;\n",
              "    }\n",
              "\n",
              "    [theme=dark] .colab-df-convert:hover {\n",
              "      background-color: #434B5C;\n",
              "      box-shadow: 0px 1px 3px 1px rgba(0, 0, 0, 0.15);\n",
              "      filter: drop-shadow(0px 1px 2px rgba(0, 0, 0, 0.3));\n",
              "      fill: #FFFFFF;\n",
              "    }\n",
              "  </style>\n",
              "\n",
              "      <script>\n",
              "        const buttonEl =\n",
              "          document.querySelector('#df-f84b43ea-e55a-4dc8-9dbc-fa0d6c25fe7b button.colab-df-convert');\n",
              "        buttonEl.style.display =\n",
              "          google.colab.kernel.accessAllowed ? 'block' : 'none';\n",
              "\n",
              "        async function convertToInteractive(key) {\n",
              "          const element = document.querySelector('#df-f84b43ea-e55a-4dc8-9dbc-fa0d6c25fe7b');\n",
              "          const dataTable =\n",
              "            await google.colab.kernel.invokeFunction('convertToInteractive',\n",
              "                                                     [key], {});\n",
              "          if (!dataTable) return;\n",
              "\n",
              "          const docLinkHtml = 'Like what you see? Visit the ' +\n",
              "            '<a target=\"_blank\" href=https://colab.research.google.com/notebooks/data_table.ipynb>data table notebook</a>'\n",
              "            + ' to learn more about interactive tables.';\n",
              "          element.innerHTML = '';\n",
              "          dataTable['output_type'] = 'display_data';\n",
              "          await google.colab.output.renderOutput(dataTable, element);\n",
              "          const docLink = document.createElement('div');\n",
              "          docLink.innerHTML = docLinkHtml;\n",
              "          element.appendChild(docLink);\n",
              "        }\n",
              "      </script>\n",
              "    </div>\n",
              "  </div>\n",
              "  "
            ]
          },
          "metadata": {},
          "execution_count": 28
        }
      ]
    },
    {
      "cell_type": "code",
      "source": [
        "data.tail()"
      ],
      "metadata": {
        "colab": {
          "base_uri": "https://localhost:8080/",
          "height": 299
        },
        "id": "ZN8wSuspPOSi",
        "outputId": "72a3c987-86b8-40a1-8dfb-295b39323b1e"
      },
      "execution_count": 29,
      "outputs": [
        {
          "output_type": "execute_result",
          "data": {
            "text/plain": [
              "      age  blood_pressure  specific_gravity  albumin  sugar  red_blood_cells  \\\n",
              "395  55.0            80.0                 3        0      0                1   \n",
              "396  42.0            70.0                 4        0      0                1   \n",
              "397  12.0            80.0                 3        0      0                1   \n",
              "398  17.0            60.0                 4        0      0                1   \n",
              "399  58.0            80.0                 4        0      0                1   \n",
              "\n",
              "     pus_cells  pus_cell_clumps  bacteria  blood_glucose_random  ...  \\\n",
              "395          1                0         0                 140.0  ...   \n",
              "396          1                0         0                  75.0  ...   \n",
              "397          1                0         0                 100.0  ...   \n",
              "398          1                0         0                 114.0  ...   \n",
              "399          1                0         0                 131.0  ...   \n",
              "\n",
              "     packed_cell_volume  white_blood_cell_count  red_blood_cell_count  \\\n",
              "395                47.0                  6700.0                   4.9   \n",
              "396                54.0                  7800.0                   6.2   \n",
              "397                49.0                  6600.0                   5.4   \n",
              "398                51.0                  7200.0                   5.9   \n",
              "399                53.0                  6800.0                   6.1   \n",
              "\n",
              "     hypertension  diabetesmellitus  coronary_artery_disease  appetite  \\\n",
              "395             0                 0                        0         0   \n",
              "396             0                 0                        0         0   \n",
              "397             0                 0                        0         0   \n",
              "398             0                 0                        0         0   \n",
              "399             0                 0                        0         0   \n",
              "\n",
              "     pedal_edema  anemia  class  \n",
              "395            0       0      1  \n",
              "396            0       0      1  \n",
              "397            0       0      1  \n",
              "398            0       0      1  \n",
              "399            0       0      1  \n",
              "\n",
              "[5 rows x 25 columns]"
            ],
            "text/html": [
              "\n",
              "  <div id=\"df-8e0f1516-2287-447e-aae9-028c07c926d9\">\n",
              "    <div class=\"colab-df-container\">\n",
              "      <div>\n",
              "<style scoped>\n",
              "    .dataframe tbody tr th:only-of-type {\n",
              "        vertical-align: middle;\n",
              "    }\n",
              "\n",
              "    .dataframe tbody tr th {\n",
              "        vertical-align: top;\n",
              "    }\n",
              "\n",
              "    .dataframe thead th {\n",
              "        text-align: right;\n",
              "    }\n",
              "</style>\n",
              "<table border=\"1\" class=\"dataframe\">\n",
              "  <thead>\n",
              "    <tr style=\"text-align: right;\">\n",
              "      <th></th>\n",
              "      <th>age</th>\n",
              "      <th>blood_pressure</th>\n",
              "      <th>specific_gravity</th>\n",
              "      <th>albumin</th>\n",
              "      <th>sugar</th>\n",
              "      <th>red_blood_cells</th>\n",
              "      <th>pus_cells</th>\n",
              "      <th>pus_cell_clumps</th>\n",
              "      <th>bacteria</th>\n",
              "      <th>blood_glucose_random</th>\n",
              "      <th>...</th>\n",
              "      <th>packed_cell_volume</th>\n",
              "      <th>white_blood_cell_count</th>\n",
              "      <th>red_blood_cell_count</th>\n",
              "      <th>hypertension</th>\n",
              "      <th>diabetesmellitus</th>\n",
              "      <th>coronary_artery_disease</th>\n",
              "      <th>appetite</th>\n",
              "      <th>pedal_edema</th>\n",
              "      <th>anemia</th>\n",
              "      <th>class</th>\n",
              "    </tr>\n",
              "  </thead>\n",
              "  <tbody>\n",
              "    <tr>\n",
              "      <th>395</th>\n",
              "      <td>55.0</td>\n",
              "      <td>80.0</td>\n",
              "      <td>3</td>\n",
              "      <td>0</td>\n",
              "      <td>0</td>\n",
              "      <td>1</td>\n",
              "      <td>1</td>\n",
              "      <td>0</td>\n",
              "      <td>0</td>\n",
              "      <td>140.0</td>\n",
              "      <td>...</td>\n",
              "      <td>47.0</td>\n",
              "      <td>6700.0</td>\n",
              "      <td>4.9</td>\n",
              "      <td>0</td>\n",
              "      <td>0</td>\n",
              "      <td>0</td>\n",
              "      <td>0</td>\n",
              "      <td>0</td>\n",
              "      <td>0</td>\n",
              "      <td>1</td>\n",
              "    </tr>\n",
              "    <tr>\n",
              "      <th>396</th>\n",
              "      <td>42.0</td>\n",
              "      <td>70.0</td>\n",
              "      <td>4</td>\n",
              "      <td>0</td>\n",
              "      <td>0</td>\n",
              "      <td>1</td>\n",
              "      <td>1</td>\n",
              "      <td>0</td>\n",
              "      <td>0</td>\n",
              "      <td>75.0</td>\n",
              "      <td>...</td>\n",
              "      <td>54.0</td>\n",
              "      <td>7800.0</td>\n",
              "      <td>6.2</td>\n",
              "      <td>0</td>\n",
              "      <td>0</td>\n",
              "      <td>0</td>\n",
              "      <td>0</td>\n",
              "      <td>0</td>\n",
              "      <td>0</td>\n",
              "      <td>1</td>\n",
              "    </tr>\n",
              "    <tr>\n",
              "      <th>397</th>\n",
              "      <td>12.0</td>\n",
              "      <td>80.0</td>\n",
              "      <td>3</td>\n",
              "      <td>0</td>\n",
              "      <td>0</td>\n",
              "      <td>1</td>\n",
              "      <td>1</td>\n",
              "      <td>0</td>\n",
              "      <td>0</td>\n",
              "      <td>100.0</td>\n",
              "      <td>...</td>\n",
              "      <td>49.0</td>\n",
              "      <td>6600.0</td>\n",
              "      <td>5.4</td>\n",
              "      <td>0</td>\n",
              "      <td>0</td>\n",
              "      <td>0</td>\n",
              "      <td>0</td>\n",
              "      <td>0</td>\n",
              "      <td>0</td>\n",
              "      <td>1</td>\n",
              "    </tr>\n",
              "    <tr>\n",
              "      <th>398</th>\n",
              "      <td>17.0</td>\n",
              "      <td>60.0</td>\n",
              "      <td>4</td>\n",
              "      <td>0</td>\n",
              "      <td>0</td>\n",
              "      <td>1</td>\n",
              "      <td>1</td>\n",
              "      <td>0</td>\n",
              "      <td>0</td>\n",
              "      <td>114.0</td>\n",
              "      <td>...</td>\n",
              "      <td>51.0</td>\n",
              "      <td>7200.0</td>\n",
              "      <td>5.9</td>\n",
              "      <td>0</td>\n",
              "      <td>0</td>\n",
              "      <td>0</td>\n",
              "      <td>0</td>\n",
              "      <td>0</td>\n",
              "      <td>0</td>\n",
              "      <td>1</td>\n",
              "    </tr>\n",
              "    <tr>\n",
              "      <th>399</th>\n",
              "      <td>58.0</td>\n",
              "      <td>80.0</td>\n",
              "      <td>4</td>\n",
              "      <td>0</td>\n",
              "      <td>0</td>\n",
              "      <td>1</td>\n",
              "      <td>1</td>\n",
              "      <td>0</td>\n",
              "      <td>0</td>\n",
              "      <td>131.0</td>\n",
              "      <td>...</td>\n",
              "      <td>53.0</td>\n",
              "      <td>6800.0</td>\n",
              "      <td>6.1</td>\n",
              "      <td>0</td>\n",
              "      <td>0</td>\n",
              "      <td>0</td>\n",
              "      <td>0</td>\n",
              "      <td>0</td>\n",
              "      <td>0</td>\n",
              "      <td>1</td>\n",
              "    </tr>\n",
              "  </tbody>\n",
              "</table>\n",
              "<p>5 rows × 25 columns</p>\n",
              "</div>\n",
              "      <button class=\"colab-df-convert\" onclick=\"convertToInteractive('df-8e0f1516-2287-447e-aae9-028c07c926d9')\"\n",
              "              title=\"Convert this dataframe to an interactive table.\"\n",
              "              style=\"display:none;\">\n",
              "        \n",
              "  <svg xmlns=\"http://www.w3.org/2000/svg\" height=\"24px\"viewBox=\"0 0 24 24\"\n",
              "       width=\"24px\">\n",
              "    <path d=\"M0 0h24v24H0V0z\" fill=\"none\"/>\n",
              "    <path d=\"M18.56 5.44l.94 2.06.94-2.06 2.06-.94-2.06-.94-.94-2.06-.94 2.06-2.06.94zm-11 1L8.5 8.5l.94-2.06 2.06-.94-2.06-.94L8.5 2.5l-.94 2.06-2.06.94zm10 10l.94 2.06.94-2.06 2.06-.94-2.06-.94-.94-2.06-.94 2.06-2.06.94z\"/><path d=\"M17.41 7.96l-1.37-1.37c-.4-.4-.92-.59-1.43-.59-.52 0-1.04.2-1.43.59L10.3 9.45l-7.72 7.72c-.78.78-.78 2.05 0 2.83L4 21.41c.39.39.9.59 1.41.59.51 0 1.02-.2 1.41-.59l7.78-7.78 2.81-2.81c.8-.78.8-2.07 0-2.86zM5.41 20L4 18.59l7.72-7.72 1.47 1.35L5.41 20z\"/>\n",
              "  </svg>\n",
              "      </button>\n",
              "      \n",
              "  <style>\n",
              "    .colab-df-container {\n",
              "      display:flex;\n",
              "      flex-wrap:wrap;\n",
              "      gap: 12px;\n",
              "    }\n",
              "\n",
              "    .colab-df-convert {\n",
              "      background-color: #E8F0FE;\n",
              "      border: none;\n",
              "      border-radius: 50%;\n",
              "      cursor: pointer;\n",
              "      display: none;\n",
              "      fill: #1967D2;\n",
              "      height: 32px;\n",
              "      padding: 0 0 0 0;\n",
              "      width: 32px;\n",
              "    }\n",
              "\n",
              "    .colab-df-convert:hover {\n",
              "      background-color: #E2EBFA;\n",
              "      box-shadow: 0px 1px 2px rgba(60, 64, 67, 0.3), 0px 1px 3px 1px rgba(60, 64, 67, 0.15);\n",
              "      fill: #174EA6;\n",
              "    }\n",
              "\n",
              "    [theme=dark] .colab-df-convert {\n",
              "      background-color: #3B4455;\n",
              "      fill: #D2E3FC;\n",
              "    }\n",
              "\n",
              "    [theme=dark] .colab-df-convert:hover {\n",
              "      background-color: #434B5C;\n",
              "      box-shadow: 0px 1px 3px 1px rgba(0, 0, 0, 0.15);\n",
              "      filter: drop-shadow(0px 1px 2px rgba(0, 0, 0, 0.3));\n",
              "      fill: #FFFFFF;\n",
              "    }\n",
              "  </style>\n",
              "\n",
              "      <script>\n",
              "        const buttonEl =\n",
              "          document.querySelector('#df-8e0f1516-2287-447e-aae9-028c07c926d9 button.colab-df-convert');\n",
              "        buttonEl.style.display =\n",
              "          google.colab.kernel.accessAllowed ? 'block' : 'none';\n",
              "\n",
              "        async function convertToInteractive(key) {\n",
              "          const element = document.querySelector('#df-8e0f1516-2287-447e-aae9-028c07c926d9');\n",
              "          const dataTable =\n",
              "            await google.colab.kernel.invokeFunction('convertToInteractive',\n",
              "                                                     [key], {});\n",
              "          if (!dataTable) return;\n",
              "\n",
              "          const docLinkHtml = 'Like what you see? Visit the ' +\n",
              "            '<a target=\"_blank\" href=https://colab.research.google.com/notebooks/data_table.ipynb>data table notebook</a>'\n",
              "            + ' to learn more about interactive tables.';\n",
              "          element.innerHTML = '';\n",
              "          dataTable['output_type'] = 'display_data';\n",
              "          await google.colab.output.renderOutput(dataTable, element);\n",
              "          const docLink = document.createElement('div');\n",
              "          docLink.innerHTML = docLinkHtml;\n",
              "          element.appendChild(docLink);\n",
              "        }\n",
              "      </script>\n",
              "    </div>\n",
              "  </div>\n",
              "  "
            ]
          },
          "metadata": {},
          "execution_count": 29
        }
      ]
    },
    {
      "cell_type": "code",
      "source": [
        "data.shape"
      ],
      "metadata": {
        "colab": {
          "base_uri": "https://localhost:8080/"
        },
        "id": "sVZ1FSd3PVGg",
        "outputId": "bcaf9748-4b73-4596-a72f-5bac86edeecb"
      },
      "execution_count": 30,
      "outputs": [
        {
          "output_type": "execute_result",
          "data": {
            "text/plain": [
              "(400, 25)"
            ]
          },
          "metadata": {},
          "execution_count": 30
        }
      ]
    },
    {
      "cell_type": "code",
      "source": [
        "data.duplicated().sum()"
      ],
      "metadata": {
        "colab": {
          "base_uri": "https://localhost:8080/"
        },
        "id": "NdKVteJ2PWn4",
        "outputId": "bd201b79-43ca-4380-96ed-e0bdd1633e55"
      },
      "execution_count": 31,
      "outputs": [
        {
          "output_type": "execute_result",
          "data": {
            "text/plain": [
              "0"
            ]
          },
          "metadata": {},
          "execution_count": 31
        }
      ]
    },
    {
      "cell_type": "markdown",
      "source": [
        "## Understanding the datatype"
      ],
      "metadata": {
        "id": "olQdoCGQ9NHK"
      }
    },
    {
      "cell_type": "code",
      "source": [
        "data.dtypes"
      ],
      "metadata": {
        "colab": {
          "base_uri": "https://localhost:8080/"
        },
        "id": "IEc5BZdVPagX",
        "outputId": "371a4388-a265-41bc-cc1d-9f1a6d92f988"
      },
      "execution_count": 32,
      "outputs": [
        {
          "output_type": "execute_result",
          "data": {
            "text/plain": [
              "age                        float64\n",
              "blood_pressure             float64\n",
              "specific_gravity             int64\n",
              "albumin                      int64\n",
              "sugar                        int64\n",
              "red_blood_cells              int64\n",
              "pus_cells                    int64\n",
              "pus_cell_clumps              int64\n",
              "bacteria                     int64\n",
              "blood_glucose_random       float64\n",
              "blood_urea                 float64\n",
              "serum_creatinine           float64\n",
              "sodium                     float64\n",
              "potassium                  float64\n",
              "haemoglobin                float64\n",
              "packed_cell_volume         float64\n",
              "white_blood_cell_count     float64\n",
              "red_blood_cell_count       float64\n",
              "hypertension                 int64\n",
              "diabetesmellitus             int64\n",
              "coronary_artery_disease      int64\n",
              "appetite                     int64\n",
              "pedal_edema                  int64\n",
              "anemia                       int64\n",
              "class                        int64\n",
              "dtype: object"
            ]
          },
          "metadata": {},
          "execution_count": 32
        }
      ]
    },
    {
      "cell_type": "code",
      "source": [
        "data.info()"
      ],
      "metadata": {
        "colab": {
          "base_uri": "https://localhost:8080/"
        },
        "id": "EbbzacRrPot2",
        "outputId": "2c4e2b4a-3ef1-4eb5-9c8e-6e261063f045"
      },
      "execution_count": 33,
      "outputs": [
        {
          "output_type": "stream",
          "name": "stdout",
          "text": [
            "<class 'pandas.core.frame.DataFrame'>\n",
            "RangeIndex: 400 entries, 0 to 399\n",
            "Data columns (total 25 columns):\n",
            " #   Column                   Non-Null Count  Dtype  \n",
            "---  ------                   --------------  -----  \n",
            " 0   age                      400 non-null    float64\n",
            " 1   blood_pressure           400 non-null    float64\n",
            " 2   specific_gravity         400 non-null    int64  \n",
            " 3   albumin                  400 non-null    int64  \n",
            " 4   sugar                    400 non-null    int64  \n",
            " 5   red_blood_cells          400 non-null    int64  \n",
            " 6   pus_cells                400 non-null    int64  \n",
            " 7   pus_cell_clumps          400 non-null    int64  \n",
            " 8   bacteria                 400 non-null    int64  \n",
            " 9   blood_glucose_random     400 non-null    float64\n",
            " 10  blood_urea               400 non-null    float64\n",
            " 11  serum_creatinine         400 non-null    float64\n",
            " 12  sodium                   400 non-null    float64\n",
            " 13  potassium                400 non-null    float64\n",
            " 14  haemoglobin              400 non-null    float64\n",
            " 15  packed_cell_volume       400 non-null    float64\n",
            " 16  white_blood_cell_count   400 non-null    float64\n",
            " 17  red_blood_cell_count     400 non-null    float64\n",
            " 18  hypertension             400 non-null    int64  \n",
            " 19  diabetesmellitus         400 non-null    int64  \n",
            " 20  coronary_artery_disease  400 non-null    int64  \n",
            " 21  appetite                 400 non-null    int64  \n",
            " 22  pedal_edema              400 non-null    int64  \n",
            " 23  anemia                   400 non-null    int64  \n",
            " 24  class                    400 non-null    int64  \n",
            "dtypes: float64(11), int64(14)\n",
            "memory usage: 78.2 KB\n"
          ]
        }
      ]
    },
    {
      "cell_type": "markdown",
      "source": [
        "## Descriptive statistics"
      ],
      "metadata": {
        "id": "0eGyF6SU9tVA"
      }
    },
    {
      "cell_type": "code",
      "source": [
        "data.describe()"
      ],
      "metadata": {
        "colab": {
          "base_uri": "https://localhost:8080/",
          "height": 394
        },
        "id": "8jVJioKcPv-X",
        "outputId": "e3c0bdcb-cf81-4878-a5f0-42f60ee09204"
      },
      "execution_count": 34,
      "outputs": [
        {
          "output_type": "execute_result",
          "data": {
            "text/plain": [
              "              age  blood_pressure  specific_gravity    albumin       sugar  \\\n",
              "count  400.000000      400.000000        400.000000  400.00000  400.000000   \n",
              "mean    51.675000       76.469072          2.542500    0.90000    0.395000   \n",
              "std     17.022008       13.476298          1.086806    1.31313    1.040038   \n",
              "min      2.000000       50.000000          0.000000    0.00000    0.000000   \n",
              "25%     42.000000       70.000000          2.000000    0.00000    0.000000   \n",
              "50%     55.000000       78.234536          3.000000    0.00000    0.000000   \n",
              "75%     64.000000       80.000000          3.000000    2.00000    0.000000   \n",
              "max     90.000000      180.000000          4.000000    5.00000    5.000000   \n",
              "\n",
              "       red_blood_cells   pus_cells  pus_cell_clumps    bacteria  \\\n",
              "count       400.000000  400.000000       400.000000  400.000000   \n",
              "mean          0.882500    0.810000         0.105000    0.055000   \n",
              "std           0.322418    0.392792         0.306937    0.228266   \n",
              "min           0.000000    0.000000         0.000000    0.000000   \n",
              "25%           1.000000    1.000000         0.000000    0.000000   \n",
              "50%           1.000000    1.000000         0.000000    0.000000   \n",
              "75%           1.000000    1.000000         0.000000    0.000000   \n",
              "max           1.000000    1.000000         1.000000    1.000000   \n",
              "\n",
              "       blood_glucose_random  ...  packed_cell_volume  white_blood_cell_count  \\\n",
              "count            400.000000  ...          400.000000              400.000000   \n",
              "mean             148.036517  ...           38.884498             8406.122449   \n",
              "std               74.782634  ...            8.151081             2523.219976   \n",
              "min               22.000000  ...            9.000000             2200.000000   \n",
              "25%              101.000000  ...           34.000000             6975.000000   \n",
              "50%              126.000000  ...           38.884498             8406.122449   \n",
              "75%              150.000000  ...           44.000000             9400.000000   \n",
              "max              490.000000  ...           54.000000            26400.000000   \n",
              "\n",
              "       red_blood_cell_count  hypertension  diabetesmellitus  \\\n",
              "count            400.000000    400.000000         400.00000   \n",
              "mean               4.707435      0.367500           0.34250   \n",
              "std                0.840314      0.482728           0.47514   \n",
              "min                2.100000      0.000000           0.00000   \n",
              "25%                4.500000      0.000000           0.00000   \n",
              "50%                4.707435      0.000000           0.00000   \n",
              "75%                5.100000      1.000000           1.00000   \n",
              "max                8.000000      1.000000           1.00000   \n",
              "\n",
              "       coronary_artery_disease    appetite  pedal_edema      anemia  \\\n",
              "count               400.000000  400.000000   400.000000  400.000000   \n",
              "mean                  0.085000    0.205000     0.190000    0.150000   \n",
              "std                   0.279231    0.404207     0.392792    0.357519   \n",
              "min                   0.000000    0.000000     0.000000    0.000000   \n",
              "25%                   0.000000    0.000000     0.000000    0.000000   \n",
              "50%                   0.000000    0.000000     0.000000    0.000000   \n",
              "75%                   0.000000    0.000000     0.000000    0.000000   \n",
              "max                   1.000000    1.000000     1.000000    1.000000   \n",
              "\n",
              "            class  \n",
              "count  400.000000  \n",
              "mean     0.375000  \n",
              "std      0.484729  \n",
              "min      0.000000  \n",
              "25%      0.000000  \n",
              "50%      0.000000  \n",
              "75%      1.000000  \n",
              "max      1.000000  \n",
              "\n",
              "[8 rows x 25 columns]"
            ],
            "text/html": [
              "\n",
              "  <div id=\"df-52ae0317-ab35-4307-bbcd-973e79001daa\">\n",
              "    <div class=\"colab-df-container\">\n",
              "      <div>\n",
              "<style scoped>\n",
              "    .dataframe tbody tr th:only-of-type {\n",
              "        vertical-align: middle;\n",
              "    }\n",
              "\n",
              "    .dataframe tbody tr th {\n",
              "        vertical-align: top;\n",
              "    }\n",
              "\n",
              "    .dataframe thead th {\n",
              "        text-align: right;\n",
              "    }\n",
              "</style>\n",
              "<table border=\"1\" class=\"dataframe\">\n",
              "  <thead>\n",
              "    <tr style=\"text-align: right;\">\n",
              "      <th></th>\n",
              "      <th>age</th>\n",
              "      <th>blood_pressure</th>\n",
              "      <th>specific_gravity</th>\n",
              "      <th>albumin</th>\n",
              "      <th>sugar</th>\n",
              "      <th>red_blood_cells</th>\n",
              "      <th>pus_cells</th>\n",
              "      <th>pus_cell_clumps</th>\n",
              "      <th>bacteria</th>\n",
              "      <th>blood_glucose_random</th>\n",
              "      <th>...</th>\n",
              "      <th>packed_cell_volume</th>\n",
              "      <th>white_blood_cell_count</th>\n",
              "      <th>red_blood_cell_count</th>\n",
              "      <th>hypertension</th>\n",
              "      <th>diabetesmellitus</th>\n",
              "      <th>coronary_artery_disease</th>\n",
              "      <th>appetite</th>\n",
              "      <th>pedal_edema</th>\n",
              "      <th>anemia</th>\n",
              "      <th>class</th>\n",
              "    </tr>\n",
              "  </thead>\n",
              "  <tbody>\n",
              "    <tr>\n",
              "      <th>count</th>\n",
              "      <td>400.000000</td>\n",
              "      <td>400.000000</td>\n",
              "      <td>400.000000</td>\n",
              "      <td>400.00000</td>\n",
              "      <td>400.000000</td>\n",
              "      <td>400.000000</td>\n",
              "      <td>400.000000</td>\n",
              "      <td>400.000000</td>\n",
              "      <td>400.000000</td>\n",
              "      <td>400.000000</td>\n",
              "      <td>...</td>\n",
              "      <td>400.000000</td>\n",
              "      <td>400.000000</td>\n",
              "      <td>400.000000</td>\n",
              "      <td>400.000000</td>\n",
              "      <td>400.00000</td>\n",
              "      <td>400.000000</td>\n",
              "      <td>400.000000</td>\n",
              "      <td>400.000000</td>\n",
              "      <td>400.000000</td>\n",
              "      <td>400.000000</td>\n",
              "    </tr>\n",
              "    <tr>\n",
              "      <th>mean</th>\n",
              "      <td>51.675000</td>\n",
              "      <td>76.469072</td>\n",
              "      <td>2.542500</td>\n",
              "      <td>0.90000</td>\n",
              "      <td>0.395000</td>\n",
              "      <td>0.882500</td>\n",
              "      <td>0.810000</td>\n",
              "      <td>0.105000</td>\n",
              "      <td>0.055000</td>\n",
              "      <td>148.036517</td>\n",
              "      <td>...</td>\n",
              "      <td>38.884498</td>\n",
              "      <td>8406.122449</td>\n",
              "      <td>4.707435</td>\n",
              "      <td>0.367500</td>\n",
              "      <td>0.34250</td>\n",
              "      <td>0.085000</td>\n",
              "      <td>0.205000</td>\n",
              "      <td>0.190000</td>\n",
              "      <td>0.150000</td>\n",
              "      <td>0.375000</td>\n",
              "    </tr>\n",
              "    <tr>\n",
              "      <th>std</th>\n",
              "      <td>17.022008</td>\n",
              "      <td>13.476298</td>\n",
              "      <td>1.086806</td>\n",
              "      <td>1.31313</td>\n",
              "      <td>1.040038</td>\n",
              "      <td>0.322418</td>\n",
              "      <td>0.392792</td>\n",
              "      <td>0.306937</td>\n",
              "      <td>0.228266</td>\n",
              "      <td>74.782634</td>\n",
              "      <td>...</td>\n",
              "      <td>8.151081</td>\n",
              "      <td>2523.219976</td>\n",
              "      <td>0.840314</td>\n",
              "      <td>0.482728</td>\n",
              "      <td>0.47514</td>\n",
              "      <td>0.279231</td>\n",
              "      <td>0.404207</td>\n",
              "      <td>0.392792</td>\n",
              "      <td>0.357519</td>\n",
              "      <td>0.484729</td>\n",
              "    </tr>\n",
              "    <tr>\n",
              "      <th>min</th>\n",
              "      <td>2.000000</td>\n",
              "      <td>50.000000</td>\n",
              "      <td>0.000000</td>\n",
              "      <td>0.00000</td>\n",
              "      <td>0.000000</td>\n",
              "      <td>0.000000</td>\n",
              "      <td>0.000000</td>\n",
              "      <td>0.000000</td>\n",
              "      <td>0.000000</td>\n",
              "      <td>22.000000</td>\n",
              "      <td>...</td>\n",
              "      <td>9.000000</td>\n",
              "      <td>2200.000000</td>\n",
              "      <td>2.100000</td>\n",
              "      <td>0.000000</td>\n",
              "      <td>0.00000</td>\n",
              "      <td>0.000000</td>\n",
              "      <td>0.000000</td>\n",
              "      <td>0.000000</td>\n",
              "      <td>0.000000</td>\n",
              "      <td>0.000000</td>\n",
              "    </tr>\n",
              "    <tr>\n",
              "      <th>25%</th>\n",
              "      <td>42.000000</td>\n",
              "      <td>70.000000</td>\n",
              "      <td>2.000000</td>\n",
              "      <td>0.00000</td>\n",
              "      <td>0.000000</td>\n",
              "      <td>1.000000</td>\n",
              "      <td>1.000000</td>\n",
              "      <td>0.000000</td>\n",
              "      <td>0.000000</td>\n",
              "      <td>101.000000</td>\n",
              "      <td>...</td>\n",
              "      <td>34.000000</td>\n",
              "      <td>6975.000000</td>\n",
              "      <td>4.500000</td>\n",
              "      <td>0.000000</td>\n",
              "      <td>0.00000</td>\n",
              "      <td>0.000000</td>\n",
              "      <td>0.000000</td>\n",
              "      <td>0.000000</td>\n",
              "      <td>0.000000</td>\n",
              "      <td>0.000000</td>\n",
              "    </tr>\n",
              "    <tr>\n",
              "      <th>50%</th>\n",
              "      <td>55.000000</td>\n",
              "      <td>78.234536</td>\n",
              "      <td>3.000000</td>\n",
              "      <td>0.00000</td>\n",
              "      <td>0.000000</td>\n",
              "      <td>1.000000</td>\n",
              "      <td>1.000000</td>\n",
              "      <td>0.000000</td>\n",
              "      <td>0.000000</td>\n",
              "      <td>126.000000</td>\n",
              "      <td>...</td>\n",
              "      <td>38.884498</td>\n",
              "      <td>8406.122449</td>\n",
              "      <td>4.707435</td>\n",
              "      <td>0.000000</td>\n",
              "      <td>0.00000</td>\n",
              "      <td>0.000000</td>\n",
              "      <td>0.000000</td>\n",
              "      <td>0.000000</td>\n",
              "      <td>0.000000</td>\n",
              "      <td>0.000000</td>\n",
              "    </tr>\n",
              "    <tr>\n",
              "      <th>75%</th>\n",
              "      <td>64.000000</td>\n",
              "      <td>80.000000</td>\n",
              "      <td>3.000000</td>\n",
              "      <td>2.00000</td>\n",
              "      <td>0.000000</td>\n",
              "      <td>1.000000</td>\n",
              "      <td>1.000000</td>\n",
              "      <td>0.000000</td>\n",
              "      <td>0.000000</td>\n",
              "      <td>150.000000</td>\n",
              "      <td>...</td>\n",
              "      <td>44.000000</td>\n",
              "      <td>9400.000000</td>\n",
              "      <td>5.100000</td>\n",
              "      <td>1.000000</td>\n",
              "      <td>1.00000</td>\n",
              "      <td>0.000000</td>\n",
              "      <td>0.000000</td>\n",
              "      <td>0.000000</td>\n",
              "      <td>0.000000</td>\n",
              "      <td>1.000000</td>\n",
              "    </tr>\n",
              "    <tr>\n",
              "      <th>max</th>\n",
              "      <td>90.000000</td>\n",
              "      <td>180.000000</td>\n",
              "      <td>4.000000</td>\n",
              "      <td>5.00000</td>\n",
              "      <td>5.000000</td>\n",
              "      <td>1.000000</td>\n",
              "      <td>1.000000</td>\n",
              "      <td>1.000000</td>\n",
              "      <td>1.000000</td>\n",
              "      <td>490.000000</td>\n",
              "      <td>...</td>\n",
              "      <td>54.000000</td>\n",
              "      <td>26400.000000</td>\n",
              "      <td>8.000000</td>\n",
              "      <td>1.000000</td>\n",
              "      <td>1.00000</td>\n",
              "      <td>1.000000</td>\n",
              "      <td>1.000000</td>\n",
              "      <td>1.000000</td>\n",
              "      <td>1.000000</td>\n",
              "      <td>1.000000</td>\n",
              "    </tr>\n",
              "  </tbody>\n",
              "</table>\n",
              "<p>8 rows × 25 columns</p>\n",
              "</div>\n",
              "      <button class=\"colab-df-convert\" onclick=\"convertToInteractive('df-52ae0317-ab35-4307-bbcd-973e79001daa')\"\n",
              "              title=\"Convert this dataframe to an interactive table.\"\n",
              "              style=\"display:none;\">\n",
              "        \n",
              "  <svg xmlns=\"http://www.w3.org/2000/svg\" height=\"24px\"viewBox=\"0 0 24 24\"\n",
              "       width=\"24px\">\n",
              "    <path d=\"M0 0h24v24H0V0z\" fill=\"none\"/>\n",
              "    <path d=\"M18.56 5.44l.94 2.06.94-2.06 2.06-.94-2.06-.94-.94-2.06-.94 2.06-2.06.94zm-11 1L8.5 8.5l.94-2.06 2.06-.94-2.06-.94L8.5 2.5l-.94 2.06-2.06.94zm10 10l.94 2.06.94-2.06 2.06-.94-2.06-.94-.94-2.06-.94 2.06-2.06.94z\"/><path d=\"M17.41 7.96l-1.37-1.37c-.4-.4-.92-.59-1.43-.59-.52 0-1.04.2-1.43.59L10.3 9.45l-7.72 7.72c-.78.78-.78 2.05 0 2.83L4 21.41c.39.39.9.59 1.41.59.51 0 1.02-.2 1.41-.59l7.78-7.78 2.81-2.81c.8-.78.8-2.07 0-2.86zM5.41 20L4 18.59l7.72-7.72 1.47 1.35L5.41 20z\"/>\n",
              "  </svg>\n",
              "      </button>\n",
              "      \n",
              "  <style>\n",
              "    .colab-df-container {\n",
              "      display:flex;\n",
              "      flex-wrap:wrap;\n",
              "      gap: 12px;\n",
              "    }\n",
              "\n",
              "    .colab-df-convert {\n",
              "      background-color: #E8F0FE;\n",
              "      border: none;\n",
              "      border-radius: 50%;\n",
              "      cursor: pointer;\n",
              "      display: none;\n",
              "      fill: #1967D2;\n",
              "      height: 32px;\n",
              "      padding: 0 0 0 0;\n",
              "      width: 32px;\n",
              "    }\n",
              "\n",
              "    .colab-df-convert:hover {\n",
              "      background-color: #E2EBFA;\n",
              "      box-shadow: 0px 1px 2px rgba(60, 64, 67, 0.3), 0px 1px 3px 1px rgba(60, 64, 67, 0.15);\n",
              "      fill: #174EA6;\n",
              "    }\n",
              "\n",
              "    [theme=dark] .colab-df-convert {\n",
              "      background-color: #3B4455;\n",
              "      fill: #D2E3FC;\n",
              "    }\n",
              "\n",
              "    [theme=dark] .colab-df-convert:hover {\n",
              "      background-color: #434B5C;\n",
              "      box-shadow: 0px 1px 3px 1px rgba(0, 0, 0, 0.15);\n",
              "      filter: drop-shadow(0px 1px 2px rgba(0, 0, 0, 0.3));\n",
              "      fill: #FFFFFF;\n",
              "    }\n",
              "  </style>\n",
              "\n",
              "      <script>\n",
              "        const buttonEl =\n",
              "          document.querySelector('#df-52ae0317-ab35-4307-bbcd-973e79001daa button.colab-df-convert');\n",
              "        buttonEl.style.display =\n",
              "          google.colab.kernel.accessAllowed ? 'block' : 'none';\n",
              "\n",
              "        async function convertToInteractive(key) {\n",
              "          const element = document.querySelector('#df-52ae0317-ab35-4307-bbcd-973e79001daa');\n",
              "          const dataTable =\n",
              "            await google.colab.kernel.invokeFunction('convertToInteractive',\n",
              "                                                     [key], {});\n",
              "          if (!dataTable) return;\n",
              "\n",
              "          const docLinkHtml = 'Like what you see? Visit the ' +\n",
              "            '<a target=\"_blank\" href=https://colab.research.google.com/notebooks/data_table.ipynb>data table notebook</a>'\n",
              "            + ' to learn more about interactive tables.';\n",
              "          element.innerHTML = '';\n",
              "          dataTable['output_type'] = 'display_data';\n",
              "          await google.colab.output.renderOutput(dataTable, element);\n",
              "          const docLink = document.createElement('div');\n",
              "          docLink.innerHTML = docLinkHtml;\n",
              "          element.appendChild(docLink);\n",
              "        }\n",
              "      </script>\n",
              "    </div>\n",
              "  </div>\n",
              "  "
            ]
          },
          "metadata": {},
          "execution_count": 34
        }
      ]
    },
    {
      "cell_type": "markdown",
      "source": [
        "## Dropping the column \"id\""
      ],
      "metadata": {
        "id": "eRfh2r4k91vf"
      }
    },
    {
      "cell_type": "code",
      "source": [
        "data.drop([\"id\"],axis=1,inplace=True)  # dropping the column \"id\""
      ],
      "metadata": {
        "id": "UfhDs8k_Px92"
      },
      "execution_count": 3,
      "outputs": []
    },
    {
      "cell_type": "code",
      "source": [
        "data.columns"
      ],
      "metadata": {
        "colab": {
          "base_uri": "https://localhost:8080/"
        },
        "id": "rqNPRz5vP3AL",
        "outputId": "2b739f14-e753-4a72-9f78-ebdd01f14c6e"
      },
      "execution_count": 35,
      "outputs": [
        {
          "output_type": "execute_result",
          "data": {
            "text/plain": [
              "Index(['age', 'blood_pressure', 'specific_gravity', 'albumin', 'sugar',\n",
              "       'red_blood_cells', 'pus_cells', 'pus_cell_clumps', 'bacteria',\n",
              "       'blood_glucose_random', 'blood_urea', 'serum_creatinine', 'sodium',\n",
              "       'potassium', 'haemoglobin', 'packed_cell_volume',\n",
              "       'white_blood_cell_count', 'red_blood_cell_count', 'hypertension',\n",
              "       'diabetesmellitus', 'coronary_artery_disease', 'appetite',\n",
              "       'pedal_edema', 'anemia', 'class'],\n",
              "      dtype='object')"
            ]
          },
          "metadata": {},
          "execution_count": 35
        }
      ]
    },
    {
      "cell_type": "markdown",
      "source": [
        "## Renaming columns"
      ],
      "metadata": {
        "id": "g1BkvKUD99nK"
      }
    },
    {
      "cell_type": "code",
      "source": [
        "data.columns = ['age','blood_pressure','specific_gravity','albumin','sugar','red_blood_cells','pus_cells',\n",
        "              'pus_cell_clumps','bacteria','blood_glucose_random','blood_urea','serum_creatinine','sodium','potassium',\n",
        "              'haemoglobin','packed_cell_volume','white_blood_cell_count','red_blood_cell_count','hypertension',\n",
        "              'diabetesmellitus','coronary_artery_disease','appetite','pedal_edema','anemia','class']\n",
        "data.columns"
      ],
      "metadata": {
        "colab": {
          "base_uri": "https://localhost:8080/"
        },
        "id": "3K6rZg2sP5eD",
        "outputId": "70616972-ec53-45a7-fad9-0b3a207db82e"
      },
      "execution_count": 4,
      "outputs": [
        {
          "output_type": "execute_result",
          "data": {
            "text/plain": [
              "Index(['age', 'blood_pressure', 'specific_gravity', 'albumin', 'sugar',\n",
              "       'red_blood_cells', 'pus_cells', 'pus_cell_clumps', 'bacteria',\n",
              "       'blood_glucose_random', 'blood_urea', 'serum_creatinine', 'sodium',\n",
              "       'potassium', 'haemoglobin', 'packed_cell_volume',\n",
              "       'white_blood_cell_count', 'red_blood_cell_count', 'hypertension',\n",
              "       'diabetesmellitus', 'coronary_artery_disease', 'appetite',\n",
              "       'pedal_edema', 'anemia', 'class'],\n",
              "      dtype='object')"
            ]
          },
          "metadata": {},
          "execution_count": 4
        }
      ]
    },
    {
      "cell_type": "markdown",
      "source": [
        "## Target column"
      ],
      "metadata": {
        "id": "afAwCdVk-CNr"
      }
    },
    {
      "cell_type": "code",
      "source": [
        "data['class'].unique()"
      ],
      "metadata": {
        "colab": {
          "base_uri": "https://localhost:8080/"
        },
        "id": "jjXymubkQIEI",
        "outputId": "2b233a9c-4c41-401d-915d-2f9ace58906d"
      },
      "execution_count": 5,
      "outputs": [
        {
          "output_type": "execute_result",
          "data": {
            "text/plain": [
              "array(['ckd', 'ckd\\t', 'notckd'], dtype=object)"
            ]
          },
          "metadata": {},
          "execution_count": 5
        }
      ]
    },
    {
      "cell_type": "markdown",
      "source": [
        "## Rectifying target column"
      ],
      "metadata": {
        "id": "2C4i9-zi-E0R"
      }
    },
    {
      "cell_type": "code",
      "source": [
        "data['class']=data['class'].replace(\"ckd\\t\",\"ckd\")\n",
        "data['class'].unique()"
      ],
      "metadata": {
        "colab": {
          "base_uri": "https://localhost:8080/"
        },
        "id": "ue0EZyZJQMD7",
        "outputId": "b643397c-08c5-4298-ab93-acd814522158"
      },
      "execution_count": 6,
      "outputs": [
        {
          "output_type": "execute_result",
          "data": {
            "text/plain": [
              "array(['ckd', 'notckd'], dtype=object)"
            ]
          },
          "metadata": {},
          "execution_count": 6
        }
      ]
    },
    {
      "cell_type": "markdown",
      "source": [
        "## Categorical columns\n"
      ],
      "metadata": {
        "id": "_Yxf_S62-jwM"
      }
    },
    {
      "cell_type": "code",
      "source": [
        "categorical_columns=set(data.dtypes[data.dtypes=='O'].index.values)  #fetching object or categorical columns\n",
        "print(categorical_columns)"
      ],
      "metadata": {
        "colab": {
          "base_uri": "https://localhost:8080/"
        },
        "id": "pJuioshnQSqK",
        "outputId": "28255f16-3d7b-4c69-b3ea-ade48b8c566d"
      },
      "execution_count": 7,
      "outputs": [
        {
          "output_type": "stream",
          "name": "stdout",
          "text": [
            "{'pus_cells', 'white_blood_cell_count', 'hypertension', 'coronary_artery_disease', 'red_blood_cell_count', 'red_blood_cells', 'anemia', 'pus_cell_clumps', 'diabetesmellitus', 'appetite', 'pedal_edema', 'class', 'bacteria', 'packed_cell_volume'}\n"
          ]
        }
      ]
    },
    {
      "cell_type": "code",
      "source": [
        "for i in categorical_columns:\n",
        "    print(\"Columns : \",i)\n",
        "    print(c[data[i]])\n",
        "    print(\"*\"*120+'\\n')"
      ],
      "metadata": {
        "id": "99CZ68KnvFtO"
      },
      "execution_count": null,
      "outputs": []
    },
    {
      "cell_type": "markdown",
      "source": [
        "## Removing columns which are not categorical"
      ],
      "metadata": {
        "id": "HlEsTnn0_70A"
      }
    },
    {
      "cell_type": "code",
      "source": [
        "categorical_columns.remove('red_blood_cell_count')\n",
        "categorical_columns.remove('packed_cell_volume')\n",
        "categorical_columns.remove('white_blood_cell_count')\n",
        "print(categorical_columns)"
      ],
      "metadata": {
        "colab": {
          "base_uri": "https://localhost:8080/"
        },
        "id": "0vQTEmq9Yxp3",
        "outputId": "93bc096d-ce8e-43c6-b643-84c6fd161725"
      },
      "execution_count": 8,
      "outputs": [
        {
          "output_type": "stream",
          "name": "stdout",
          "text": [
            "{'pus_cells', 'hypertension', 'coronary_artery_disease', 'red_blood_cells', 'anemia', 'pus_cell_clumps', 'diabetesmellitus', 'appetite', 'pedal_edema', 'class', 'bacteria'}\n"
          ]
        }
      ]
    },
    {
      "cell_type": "markdown",
      "source": [
        "## Numerical columns"
      ],
      "metadata": {
        "id": "OUgUHUc6AE09"
      }
    },
    {
      "cell_type": "code",
      "source": [
        "continuous_columns=set(data.dtypes[data.dtypes!='O'].index.values)    #fetching numerical columns\n",
        "print(continuous_columns)"
      ],
      "metadata": {
        "colab": {
          "base_uri": "https://localhost:8080/"
        },
        "id": "HRL6l1leY3x9",
        "outputId": "8a2d02ac-87be-4768-e229-7ee7b7a927df"
      },
      "execution_count": 9,
      "outputs": [
        {
          "output_type": "stream",
          "name": "stdout",
          "text": [
            "{'albumin', 'blood_pressure', 'haemoglobin', 'specific_gravity', 'blood_glucose_random', 'blood_urea', 'serum_creatinine', 'sugar', 'potassium', 'age', 'sodium'}\n"
          ]
        }
      ]
    },
    {
      "cell_type": "code",
      "source": [
        "for i in continuous_columns:\n",
        "    print(\"Columns : \",i)\n",
        "    print(c[data[i]])\n",
        "    print(\"*\"*120+'\\n')"
      ],
      "metadata": {
        "id": "7xbdjqgOGB_z"
      },
      "execution_count": null,
      "outputs": []
    },
    {
      "cell_type": "markdown",
      "source": [
        "## Removing columns which are not numerical"
      ],
      "metadata": {
        "id": "rpyujsMsANgp"
      }
    },
    {
      "cell_type": "code",
      "source": [
        "continuous_columns.remove('specific_gravity')\n",
        "continuous_columns.remove('albumin')\n",
        "continuous_columns.remove('sugar')\n",
        "print(continuous_columns)"
      ],
      "metadata": {
        "colab": {
          "base_uri": "https://localhost:8080/"
        },
        "id": "HJdNoyAuZAEc",
        "outputId": "8947493d-b7f5-4ee7-add3-82db26099920"
      },
      "execution_count": 10,
      "outputs": [
        {
          "output_type": "stream",
          "name": "stdout",
          "text": [
            "{'blood_pressure', 'haemoglobin', 'blood_glucose_random', 'blood_urea', 'serum_creatinine', 'potassium', 'age', 'sodium'}\n"
          ]
        }
      ]
    },
    {
      "cell_type": "markdown",
      "source": [
        "## Adding columns which we found continuous"
      ],
      "metadata": {
        "id": "fvqn39QtARrI"
      }
    },
    {
      "cell_type": "code",
      "source": [
        "continuous_columns.add('red_blood_cell_count')\n",
        "continuous_columns.add('packed_cell_volume')\n",
        "continuous_columns.add('white_blood_cell_count')\n",
        "print(continuous_columns)\n"
      ],
      "metadata": {
        "colab": {
          "base_uri": "https://localhost:8080/"
        },
        "id": "gR008hIlZEZh",
        "outputId": "90a3798a-283b-49f2-a939-80029053088c"
      },
      "execution_count": 11,
      "outputs": [
        {
          "output_type": "stream",
          "name": "stdout",
          "text": [
            "{'white_blood_cell_count', 'blood_pressure', 'haemoglobin', 'blood_glucose_random', 'blood_urea', 'serum_creatinine', 'red_blood_cell_count', 'potassium', 'age', 'sodium', 'packed_cell_volume'}\n"
          ]
        }
      ]
    },
    {
      "cell_type": "markdown",
      "source": [
        "## Adding columns which we found categorical"
      ],
      "metadata": {
        "id": "2G7OktDEAWhM"
      }
    },
    {
      "cell_type": "code",
      "source": [
        "categorical_columns.add('specific_gravity')\n",
        "categorical_columns.add('albumin')\n",
        "categorical_columns.add('sugar')\n",
        "print(categorical_columns)"
      ],
      "metadata": {
        "colab": {
          "base_uri": "https://localhost:8080/"
        },
        "id": "Scsnj5F1ZGyW",
        "outputId": "716d4e9f-8e44-455c-b0a0-25bc64414846"
      },
      "execution_count": 12,
      "outputs": [
        {
          "output_type": "stream",
          "name": "stdout",
          "text": [
            "{'pus_cells', 'albumin', 'hypertension', 'specific_gravity', 'coronary_artery_disease', 'red_blood_cells', 'anemia', 'pus_cell_clumps', 'sugar', 'diabetesmellitus', 'appetite', 'pedal_edema', 'class', 'bacteria'}\n"
          ]
        }
      ]
    },
    {
      "cell_type": "markdown",
      "source": [
        "## Rectifying the categorical column classes"
      ],
      "metadata": {
        "id": "Ice6dQWQAaT8"
      }
    },
    {
      "cell_type": "code",
      "source": [
        "data['coronary_artery_disease']=data.coronary_artery_disease.replace('\\tno','no')\n",
        "c(data['coronary_artery_disease'])"
      ],
      "metadata": {
        "colab": {
          "base_uri": "https://localhost:8080/"
        },
        "id": "CfRYuoY9ZKX-",
        "outputId": "354988e3-225c-4684-8c51-e09cf19956a3"
      },
      "execution_count": 13,
      "outputs": [
        {
          "output_type": "execute_result",
          "data": {
            "text/plain": [
              "Counter({'no': 364, 'yes': 34, nan: 2})"
            ]
          },
          "metadata": {},
          "execution_count": 13
        }
      ]
    },
    {
      "cell_type": "code",
      "source": [
        "data['diabetesmellitus']=data.diabetesmellitus.replace(to_replace={'\\tyes':'yes','\\tno':'no',' yes':'yes'})\n",
        "c(data['diabetesmellitus'])"
      ],
      "metadata": {
        "colab": {
          "base_uri": "https://localhost:8080/"
        },
        "id": "D8bXNyhZZNbu",
        "outputId": "39360df5-0669-44ae-ee28-f05cbdd91225"
      },
      "execution_count": 14,
      "outputs": [
        {
          "output_type": "execute_result",
          "data": {
            "text/plain": [
              "Counter({'yes': 137, 'no': 261, nan: 2})"
            ]
          },
          "metadata": {},
          "execution_count": 14
        }
      ]
    },
    {
      "cell_type": "markdown",
      "source": [
        "## Analysing distribution of continuous columns"
      ],
      "metadata": {
        "id": "L5e_XzNu-xdw"
      }
    },
    {
      "cell_type": "code",
      "source": [
        "plt.figure(figsize=(20,20))\n",
        "for i,feature in enumerate(continuous_columns):\n",
        "    plt.subplot(4,3,i+1)      \n",
        "    data[feature].hist()\n",
        "    plt.title(feature)"
      ],
      "metadata": {
        "colab": {
          "base_uri": "https://localhost:8080/",
          "height": 1000
        },
        "id": "miHcjK7eZTeg",
        "outputId": "6f371f29-13bf-4ef7-fccf-e3ff5abd906c"
      },
      "execution_count": 36,
      "outputs": [
        {
          "output_type": "display_data",
          "data": {
            "text/plain": [
              "<Figure size 1440x1440 with 11 Axes>"
            ],
            "image/png": "[encoded data removed]"
          },
          "metadata": {
            "needs_background": "light"
          }
        }
      ]
    },
    {
      "cell_type": "markdown",
      "source": [
        "## Analysing distribution of categorial columns\n"
      ],
      "metadata": {
        "id": "xiT16zi__BQf"
      }
    },
    {
      "cell_type": "code",
      "source": [
        "plt.figure(figsize=(20,20))\n",
        "\n",
        "for i,feature in enumerate(categorical_columns):\n",
        "    plt.subplot(5,3,i+1)\n",
        "    sns.countplot(data[feature])"
      ],
      "metadata": {
        "colab": {
          "base_uri": "https://localhost:8080/",
          "height": 1000
        },
        "id": "EpUvUtP9ZaRB",
        "outputId": "384f0a5e-56d1-42fb-c051-13fd08ba3b37"
      },
      "execution_count": 37,
      "outputs": [
        {
          "output_type": "display_data",
          "data": {
            "text/plain": [
              "<Figure size 1440x1440 with 14 Axes>"
            ],
            "image/png": "[encoded data removed]"
          },
          "metadata": {
            "needs_background": "light"
          }
        }
      ]
    },
    {
      "cell_type": "code",
      "source": [
        "sns.countplot(data['class'])"
      ],
      "metadata": {
        "colab": {
          "base_uri": "https://localhost:8080/",
          "height": 296
        },
        "id": "inS19rRUjBGQ",
        "outputId": "93d2a30b-a586-463e-dbad-54fd286fe728"
      },
      "execution_count": 38,
      "outputs": [
        {
          "output_type": "execute_result",
          "data": {
            "text/plain": [
              "<matplotlib.axes._subplots.AxesSubplot at 0x7fdd39f27790>"
            ]
          },
          "metadata": {},
          "execution_count": 38
        },
        {
          "output_type": "display_data",
          "data": {
            "text/plain": [
              "<Figure size 432x288 with 1 Axes>"
            ],
            "image/png": "[encoded data removed]"
          },
          "metadata": {
            "needs_background": "light"
          }
        }
      ]
    },
    {
      "cell_type": "markdown",
      "source": [
        "## Correlation"
      ],
      "metadata": {
        "id": "0j4BWlSq_sVk"
      }
    },
    {
      "cell_type": "code",
      "source": [
        "data.corr()"
      ],
      "metadata": {
        "colab": {
          "base_uri": "https://localhost:8080/",
          "height": 926
        },
        "id": "6Mt54L_tjFQE",
        "outputId": "cb22d239-31d1-4507-c8cf-811032b5d47f"
      },
      "execution_count": 39,
      "outputs": [
        {
          "output_type": "execute_result",
          "data": {
            "text/plain": [
              "                              age  blood_pressure  specific_gravity   albumin  \\\n",
              "age                      1.000000        0.146830         -0.161959  0.087907   \n",
              "blood_pressure           0.146830        1.000000         -0.164422  0.122541   \n",
              "specific_gravity        -0.161959       -0.164422          1.000000 -0.479962   \n",
              "albumin                  0.087907        0.122541         -0.479962  1.000000   \n",
              "sugar                    0.185221        0.190218         -0.292053  0.287751   \n",
              "red_blood_cells         -0.019305       -0.151369          0.253894 -0.394844   \n",
              "pus_cells               -0.102595       -0.156856          0.365353 -0.561713   \n",
              "pus_cell_clumps          0.154774        0.059560         -0.306426  0.417868   \n",
              "bacteria                 0.040733        0.112173         -0.231704  0.377935   \n",
              "blood_glucose_random     0.213779        0.149100         -0.317893  0.310481   \n",
              "blood_urea               0.190669        0.183970         -0.249370  0.346935   \n",
              "serum_creatinine         0.128292        0.144359         -0.176146  0.160252   \n",
              "sodium                  -0.086552       -0.103220          0.217473 -0.228076   \n",
              "potassium                0.049315        0.066648         -0.063324  0.111614   \n",
              "haemoglobin             -0.182737       -0.279535          0.492143 -0.474211   \n",
              "packed_cell_volume      -0.217882       -0.292714          0.501064 -0.475165   \n",
              "white_blood_cell_count   0.099872        0.026067         -0.206884  0.207303   \n",
              "red_blood_cell_count    -0.202618       -0.220822          0.443741 -0.411122   \n",
              "hypertension             0.396749        0.270447         -0.323643  0.406057   \n",
              "diabetesmellitus         0.364892        0.228250         -0.351016  0.308101   \n",
              "coronary_artery_disease  0.228872        0.086618         -0.135814  0.200957   \n",
              "appetite                 0.154683        0.177601         -0.230975  0.303145   \n",
              "pedal_edema              0.095099        0.054083         -0.253803  0.411080   \n",
              "anemia                   0.056215        0.194962         -0.184155  0.229556   \n",
              "class                   -0.230926       -0.290600          0.659504 -0.531562   \n",
              "\n",
              "                            sugar  red_blood_cells  pus_cells  \\\n",
              "age                      0.185221        -0.019305  -0.102595   \n",
              "blood_pressure           0.190218        -0.151369  -0.156856   \n",
              "specific_gravity        -0.292053         0.253894   0.365353   \n",
              "albumin                  0.287751        -0.394844  -0.561713   \n",
              "sugar                    1.000000        -0.092940  -0.190062   \n",
              "red_blood_cells         -0.092940         1.000000   0.377394   \n",
              "pus_cells               -0.190062         0.377394   1.000000   \n",
              "pus_cell_clumps          0.168091        -0.102948  -0.520118   \n",
              "bacteria                 0.119399        -0.184402  -0.330401   \n",
              "blood_glucose_random     0.629809        -0.153076  -0.262259   \n",
              "blood_urea               0.126043        -0.236322  -0.344048   \n",
              "serum_creatinine         0.094565        -0.138394  -0.157896   \n",
              "sodium                  -0.053452         0.140572   0.173323   \n",
              "potassium                0.180067         0.018192  -0.158750   \n",
              "haemoglobin             -0.156876         0.280990   0.411500   \n",
              "packed_cell_volume      -0.181518         0.280958   0.418580   \n",
              "white_blood_cell_count   0.159034        -0.002207  -0.107886   \n",
              "red_blood_cell_count    -0.163871         0.202455   0.383240   \n",
              "hypertension             0.254268        -0.140538  -0.291719   \n",
              "diabetesmellitus         0.430514        -0.145646  -0.201032   \n",
              "coronary_artery_disease  0.229301        -0.111493  -0.172295   \n",
              "appetite                 0.069216        -0.160868  -0.274985   \n",
              "pedal_edema              0.116442        -0.199285  -0.350227   \n",
              "anemia                   0.042464        -0.107625  -0.260566   \n",
              "class                   -0.294555         0.282642   0.375154   \n",
              "\n",
              "                         pus_cell_clumps  bacteria  blood_glucose_random  ...  \\\n",
              "age                             0.154774  0.040733              0.213779  ...   \n",
              "blood_pressure                  0.059560  0.112173              0.149100  ...   \n",
              "specific_gravity               -0.306426 -0.231704             -0.317893  ...   \n",
              "albumin                         0.417868  0.377935              0.310481  ...   \n",
              "sugar                           0.168091  0.119399              0.629809  ...   \n",
              "red_blood_cells                -0.102948 -0.184402             -0.153076  ...   \n",
              "pus_cells                      -0.520118 -0.330401             -0.262259  ...   \n",
              "pus_cell_clumps                 1.000000  0.275082              0.197593  ...   \n",
              "bacteria                        0.275082  1.000000              0.085940  ...   \n",
              "blood_glucose_random            0.197593  0.085940              1.000000  ...   \n",
              "blood_urea                      0.184415  0.158444              0.127489  ...   \n",
              "serum_creatinine                0.049940  0.050830              0.082242  ...   \n",
              "sodium                         -0.142135 -0.081733             -0.154393  ...   \n",
              "potassium                      -0.006316 -0.002688              0.056695  ...   \n",
              "haemoglobin                    -0.275763 -0.204954             -0.269149  ...   \n",
              "packed_cell_volume             -0.294242 -0.189822             -0.267580  ...   \n",
              "white_blood_cell_count          0.163456  0.103546              0.121371  ...   \n",
              "red_blood_cell_count           -0.267982 -0.192222             -0.222568  ...   \n",
              "hypertension                    0.195623  0.089046              0.369849  ...   \n",
              "diabetesmellitus                0.165236  0.080070              0.500618  ...   \n",
              "coronary_artery_disease         0.188029  0.162395              0.212433  ...   \n",
              "appetite                        0.189688  0.149126              0.176132  ...   \n",
              "pedal_edema                     0.104356  0.134732              0.101502  ...   \n",
              "anemia                          0.175861  0.052208              0.126854  ...   \n",
              "class                          -0.265313 -0.186871             -0.401374  ...   \n",
              "\n",
              "                         packed_cell_volume  white_blood_cell_count  \\\n",
              "age                               -0.217882                0.099872   \n",
              "blood_pressure                    -0.292714                0.026067   \n",
              "specific_gravity                   0.501064               -0.206884   \n",
              "albumin                           -0.475165                0.207303   \n",
              "sugar                             -0.181518                0.159034   \n",
              "red_blood_cells                    0.280958               -0.002207   \n",
              "pus_cells                          0.418580               -0.107886   \n",
              "pus_cell_clumps                   -0.294242                0.163456   \n",
              "bacteria                          -0.189822                0.103546   \n",
              "blood_glucose_random              -0.267580                0.121371   \n",
              "blood_urea                        -0.525982                0.041510   \n",
              "serum_creatinine                  -0.341853               -0.005420   \n",
              "sodium                             0.346817                0.006334   \n",
              "potassium                         -0.123264               -0.074048   \n",
              "haemoglobin                        0.854962               -0.153818   \n",
              "packed_cell_volume                 1.000000               -0.183396   \n",
              "white_blood_cell_count            -0.183396                1.000000   \n",
              "red_blood_cell_count               0.703618               -0.151360   \n",
              "hypertension                      -0.572223                0.122173   \n",
              "diabetesmellitus                  -0.454699                0.152696   \n",
              "coronary_artery_disease           -0.294597                0.008370   \n",
              "appetite                          -0.391224                0.149332   \n",
              "pedal_edema                       -0.394946                0.135872   \n",
              "anemia                            -0.514491                0.036514   \n",
              "class                              0.690060               -0.205274   \n",
              "\n",
              "                         red_blood_cell_count  hypertension  diabetesmellitus  \\\n",
              "age                                 -0.202618      0.396749          0.364892   \n",
              "blood_pressure                      -0.220822      0.270447          0.228250   \n",
              "specific_gravity                     0.443741     -0.323643         -0.351016   \n",
              "albumin                             -0.411122      0.406057          0.308101   \n",
              "sugar                               -0.163871      0.254268          0.430514   \n",
              "red_blood_cells                      0.202455     -0.140538         -0.145646   \n",
              "pus_cells                            0.383240     -0.291719         -0.201032   \n",
              "pus_cell_clumps                     -0.267982      0.195623          0.165236   \n",
              "bacteria                            -0.192222      0.089046          0.080070   \n",
              "blood_glucose_random                -0.222568      0.369849          0.500618   \n",
              "blood_urea                          -0.465930      0.388383          0.312520   \n",
              "serum_creatinine                    -0.323146      0.274841          0.205491   \n",
              "sodium                               0.316956     -0.307294         -0.266968   \n",
              "potassium                           -0.120456      0.056565          0.061413   \n",
              "haemoglobin                          0.682257     -0.580775         -0.468059   \n",
              "packed_cell_volume                   0.703618     -0.572223         -0.454699   \n",
              "white_blood_cell_count              -0.151360      0.122173          0.152696   \n",
              "red_blood_cell_count                 1.000000     -0.528346         -0.421980   \n",
              "hypertension                        -0.528346      1.000000          0.608118   \n",
              "diabetesmellitus                    -0.421980      0.608118          1.000000   \n",
              "coronary_artery_disease             -0.295561      0.325479          0.271172   \n",
              "appetite                            -0.398133      0.345070          0.325134   \n",
              "pedal_edema                         -0.338635      0.371026          0.308463   \n",
              "anemia                              -0.397659      0.347802          0.183686   \n",
              "class                                0.590913     -0.590438         -0.559060   \n",
              "\n",
              "                         coronary_artery_disease  appetite  pedal_edema  \\\n",
              "age                                     0.228872  0.154683     0.095099   \n",
              "blood_pressure                          0.086618  0.177601     0.054083   \n",
              "specific_gravity                       -0.135814 -0.230975    -0.253803   \n",
              "albumin                                 0.200957  0.303145     0.411080   \n",
              "sugar                                   0.229301  0.069216     0.116442   \n",
              "red_blood_cells                        -0.111493 -0.160868    -0.199285   \n",
              "pus_cells                              -0.172295 -0.274985    -0.350227   \n",
              "pus_cell_clumps                         0.188029  0.189688     0.104356   \n",
              "bacteria                                0.162395  0.149126     0.134732   \n",
              "blood_glucose_random                    0.212433  0.176132     0.101502   \n",
              "blood_urea                              0.223553  0.272994     0.338274   \n",
              "serum_creatinine                        0.192273  0.161511     0.176581   \n",
              "sodium                                 -0.219764 -0.159787    -0.150240   \n",
              "potassium                               0.005761 -0.017388     0.061018   \n",
              "haemoglobin                            -0.280461 -0.391144    -0.382765   \n",
              "packed_cell_volume                     -0.294597 -0.391224    -0.394946   \n",
              "white_blood_cell_count                  0.008370  0.149332     0.135872   \n",
              "red_blood_cell_count                   -0.295561 -0.398133    -0.338635   \n",
              "hypertension                            0.325479  0.345070     0.371026   \n",
              "diabetesmellitus                        0.271172  0.325134     0.308463   \n",
              "coronary_artery_disease                 1.000000  0.156104     0.172295   \n",
              "appetite                                0.156104  1.000000     0.417055   \n",
              "pedal_edema                             0.172295  0.417055     1.000000   \n",
              "anemia                                  0.047700  0.254942     0.207025   \n",
              "class                                  -0.236088 -0.393341    -0.375154   \n",
              "\n",
              "                           anemia     class  \n",
              "age                      0.056215 -0.230926  \n",
              "blood_pressure           0.194962 -0.290600  \n",
              "specific_gravity        -0.184155  0.659504  \n",
              "albumin                  0.229556 -0.531562  \n",
              "sugar                    0.042464 -0.294555  \n",
              "red_blood_cells         -0.107625  0.282642  \n",
              "pus_cells               -0.260566  0.375154  \n",
              "pus_cell_clumps          0.175861 -0.265313  \n",
              "bacteria                 0.052208 -0.186871  \n",
              "blood_glucose_random     0.126854 -0.401374  \n",
              "blood_urea               0.435425 -0.372033  \n",
              "serum_creatinine         0.235791 -0.294079  \n",
              "sodium                  -0.199029  0.342288  \n",
              "potassium                0.101299 -0.076921  \n",
              "haemoglobin             -0.555807  0.729628  \n",
              "packed_cell_volume      -0.514491  0.690060  \n",
              "white_blood_cell_count   0.036514 -0.205274  \n",
              "red_blood_cell_count    -0.397659  0.590913  \n",
              "hypertension             0.347802 -0.590438  \n",
              "diabetesmellitus         0.183686 -0.559060  \n",
              "coronary_artery_disease  0.047700 -0.236088  \n",
              "appetite                 0.254942 -0.393341  \n",
              "pedal_edema              0.207025 -0.375154  \n",
              "anemia                   1.000000 -0.325396  \n",
              "class                   -0.325396  1.000000  \n",
              "\n",
              "[25 rows x 25 columns]"
            ],
            "text/html": [
              "\n",
              "  <div id=\"df-eec6a1cc-b680-4137-96dc-d1bd2f61816c\">\n",
              "    <div class=\"colab-df-container\">\n",
              "      <div>\n",
              "<style scoped>\n",
              "    .dataframe tbody tr th:only-of-type {\n",
              "        vertical-align: middle;\n",
              "    }\n",
              "\n",
              "    .dataframe tbody tr th {\n",
              "        vertical-align: top;\n",
              "    }\n",
              "\n",
              "    .dataframe thead th {\n",
              "        text-align: right;\n",
              "    }\n",
              "</style>\n",
              "<table border=\"1\" class=\"dataframe\">\n",
              "  <thead>\n",
              "    <tr style=\"text-align: right;\">\n",
              "      <th></th>\n",
              "      <th>age</th>\n",
              "      <th>blood_pressure</th>\n",
              "      <th>specific_gravity</th>\n",
              "      <th>albumin</th>\n",
              "      <th>sugar</th>\n",
              "      <th>red_blood_cells</th>\n",
              "      <th>pus_cells</th>\n",
              "      <th>pus_cell_clumps</th>\n",
              "      <th>bacteria</th>\n",
              "      <th>blood_glucose_random</th>\n",
              "      <th>...</th>\n",
              "      <th>packed_cell_volume</th>\n",
              "      <th>white_blood_cell_count</th>\n",
              "      <th>red_blood_cell_count</th>\n",
              "      <th>hypertension</th>\n",
              "      <th>diabetesmellitus</th>\n",
              "      <th>coronary_artery_disease</th>\n",
              "      <th>appetite</th>\n",
              "      <th>pedal_edema</th>\n",
              "      <th>anemia</th>\n",
              "      <th>class</th>\n",
              "    </tr>\n",
              "  </thead>\n",
              "  <tbody>\n",
              "    <tr>\n",
              "      <th>age</th>\n",
              "      <td>1.000000</td>\n",
              "      <td>0.146830</td>\n",
              "      <td>-0.161959</td>\n",
              "      <td>0.087907</td>\n",
              "      <td>0.185221</td>\n",
              "      <td>-0.019305</td>\n",
              "      <td>-0.102595</td>\n",
              "      <td>0.154774</td>\n",
              "      <td>0.040733</td>\n",
              "      <td>0.213779</td>\n",
              "      <td>...</td>\n",
              "      <td>-0.217882</td>\n",
              "      <td>0.099872</td>\n",
              "      <td>-0.202618</td>\n",
              "      <td>0.396749</td>\n",
              "      <td>0.364892</td>\n",
              "      <td>0.228872</td>\n",
              "      <td>0.154683</td>\n",
              "      <td>0.095099</td>\n",
              "      <td>0.056215</td>\n",
              "      <td>-0.230926</td>\n",
              "    </tr>\n",
              "    <tr>\n",
              "      <th>blood_pressure</th>\n",
              "      <td>0.146830</td>\n",
              "      <td>1.000000</td>\n",
              "      <td>-0.164422</td>\n",
              "      <td>0.122541</td>\n",
              "      <td>0.190218</td>\n",
              "      <td>-0.151369</td>\n",
              "      <td>-0.156856</td>\n",
              "      <td>0.059560</td>\n",
              "      <td>0.112173</td>\n",
              "      <td>0.149100</td>\n",
              "      <td>...</td>\n",
              "      <td>-0.292714</td>\n",
              "      <td>0.026067</td>\n",
              "      <td>-0.220822</td>\n",
              "      <td>0.270447</td>\n",
              "      <td>0.228250</td>\n",
              "      <td>0.086618</td>\n",
              "      <td>0.177601</td>\n",
              "      <td>0.054083</td>\n",
              "      <td>0.194962</td>\n",
              "      <td>-0.290600</td>\n",
              "    </tr>\n",
              "    <tr>\n",
              "      <th>specific_gravity</th>\n",
              "      <td>-0.161959</td>\n",
              "      <td>-0.164422</td>\n",
              "      <td>1.000000</td>\n",
              "      <td>-0.479962</td>\n",
              "      <td>-0.292053</td>\n",
              "      <td>0.253894</td>\n",
              "      <td>0.365353</td>\n",
              "      <td>-0.306426</td>\n",
              "      <td>-0.231704</td>\n",
              "      <td>-0.317893</td>\n",
              "      <td>...</td>\n",
              "      <td>0.501064</td>\n",
              "      <td>-0.206884</td>\n",
              "      <td>0.443741</td>\n",
              "      <td>-0.323643</td>\n",
              "      <td>-0.351016</td>\n",
              "      <td>-0.135814</td>\n",
              "      <td>-0.230975</td>\n",
              "      <td>-0.253803</td>\n",
              "      <td>-0.184155</td>\n",
              "      <td>0.659504</td>\n",
              "    </tr>\n",
              "    <tr>\n",
              "      <th>albumin</th>\n",
              "      <td>0.087907</td>\n",
              "      <td>0.122541</td>\n",
              "      <td>-0.479962</td>\n",
              "      <td>1.000000</td>\n",
              "      <td>0.287751</td>\n",
              "      <td>-0.394844</td>\n",
              "      <td>-0.561713</td>\n",
              "      <td>0.417868</td>\n",
              "      <td>0.377935</td>\n",
              "      <td>0.310481</td>\n",
              "      <td>...</td>\n",
              "      <td>-0.475165</td>\n",
              "      <td>0.207303</td>\n",
              "      <td>-0.411122</td>\n",
              "      <td>0.406057</td>\n",
              "      <td>0.308101</td>\n",
              "      <td>0.200957</td>\n",
              "      <td>0.303145</td>\n",
              "      <td>0.411080</td>\n",
              "      <td>0.229556</td>\n",
              "      <td>-0.531562</td>\n",
              "    </tr>\n",
              "    <tr>\n",
              "      <th>sugar</th>\n",
              "      <td>0.185221</td>\n",
              "      <td>0.190218</td>\n",
              "      <td>-0.292053</td>\n",
              "      <td>0.287751</td>\n",
              "      <td>1.000000</td>\n",
              "      <td>-0.092940</td>\n",
              "      <td>-0.190062</td>\n",
              "      <td>0.168091</td>\n",
              "      <td>0.119399</td>\n",
              "      <td>0.629809</td>\n",
              "      <td>...</td>\n",
              "      <td>-0.181518</td>\n",
              "      <td>0.159034</td>\n",
              "      <td>-0.163871</td>\n",
              "      <td>0.254268</td>\n",
              "      <td>0.430514</td>\n",
              "      <td>0.229301</td>\n",
              "      <td>0.069216</td>\n",
              "      <td>0.116442</td>\n",
              "      <td>0.042464</td>\n",
              "      <td>-0.294555</td>\n",
              "    </tr>\n",
              "    <tr>\n",
              "      <th>red_blood_cells</th>\n",
              "      <td>-0.019305</td>\n",
              "      <td>-0.151369</td>\n",
              "      <td>0.253894</td>\n",
              "      <td>-0.394844</td>\n",
              "      <td>-0.092940</td>\n",
              "      <td>1.000000</td>\n",
              "      <td>0.377394</td>\n",
              "      <td>-0.102948</td>\n",
              "      <td>-0.184402</td>\n",
              "      <td>-0.153076</td>\n",
              "      <td>...</td>\n",
              "      <td>0.280958</td>\n",
              "      <td>-0.002207</td>\n",
              "      <td>0.202455</td>\n",
              "      <td>-0.140538</td>\n",
              "      <td>-0.145646</td>\n",
              "      <td>-0.111493</td>\n",
              "      <td>-0.160868</td>\n",
              "      <td>-0.199285</td>\n",
              "      <td>-0.107625</td>\n",
              "      <td>0.282642</td>\n",
              "    </tr>\n",
              "    <tr>\n",
              "      <th>pus_cells</th>\n",
              "      <td>-0.102595</td>\n",
              "      <td>-0.156856</td>\n",
              "      <td>0.365353</td>\n",
              "      <td>-0.561713</td>\n",
              "      <td>-0.190062</td>\n",
              "      <td>0.377394</td>\n",
              "      <td>1.000000</td>\n",
              "      <td>-0.520118</td>\n",
              "      <td>-0.330401</td>\n",
              "      <td>-0.262259</td>\n",
              "      <td>...</td>\n",
              "      <td>0.418580</td>\n",
              "      <td>-0.107886</td>\n",
              "      <td>0.383240</td>\n",
              "      <td>-0.291719</td>\n",
              "      <td>-0.201032</td>\n",
              "      <td>-0.172295</td>\n",
              "      <td>-0.274985</td>\n",
              "      <td>-0.350227</td>\n",
              "      <td>-0.260566</td>\n",
              "      <td>0.375154</td>\n",
              "    </tr>\n",
              "    <tr>\n",
              "      <th>pus_cell_clumps</th>\n",
              "      <td>0.154774</td>\n",
              "      <td>0.059560</td>\n",
              "      <td>-0.306426</td>\n",
              "      <td>0.417868</td>\n",
              "      <td>0.168091</td>\n",
              "      <td>-0.102948</td>\n",
              "      <td>-0.520118</td>\n",
              "      <td>1.000000</td>\n",
              "      <td>0.275082</td>\n",
              "      <td>0.197593</td>\n",
              "      <td>...</td>\n",
              "      <td>-0.294242</td>\n",
              "      <td>0.163456</td>\n",
              "      <td>-0.267982</td>\n",
              "      <td>0.195623</td>\n",
              "      <td>0.165236</td>\n",
              "      <td>0.188029</td>\n",
              "      <td>0.189688</td>\n",
              "      <td>0.104356</td>\n",
              "      <td>0.175861</td>\n",
              "      <td>-0.265313</td>\n",
              "    </tr>\n",
              "    <tr>\n",
              "      <th>bacteria</th>\n",
              "      <td>0.040733</td>\n",
              "      <td>0.112173</td>\n",
              "      <td>-0.231704</td>\n",
              "      <td>0.377935</td>\n",
              "      <td>0.119399</td>\n",
              "      <td>-0.184402</td>\n",
              "      <td>-0.330401</td>\n",
              "      <td>0.275082</td>\n",
              "      <td>1.000000</td>\n",
              "      <td>0.085940</td>\n",
              "      <td>...</td>\n",
              "      <td>-0.189822</td>\n",
              "      <td>0.103546</td>\n",
              "      <td>-0.192222</td>\n",
              "      <td>0.089046</td>\n",
              "      <td>0.080070</td>\n",
              "      <td>0.162395</td>\n",
              "      <td>0.149126</td>\n",
              "      <td>0.134732</td>\n",
              "      <td>0.052208</td>\n",
              "      <td>-0.186871</td>\n",
              "    </tr>\n",
              "    <tr>\n",
              "      <th>blood_glucose_random</th>\n",
              "      <td>0.213779</td>\n",
              "      <td>0.149100</td>\n",
              "      <td>-0.317893</td>\n",
              "      <td>0.310481</td>\n",
              "      <td>0.629809</td>\n",
              "      <td>-0.153076</td>\n",
              "      <td>-0.262259</td>\n",
              "      <td>0.197593</td>\n",
              "      <td>0.085940</td>\n",
              "      <td>1.000000</td>\n",
              "      <td>...</td>\n",
              "      <td>-0.267580</td>\n",
              "      <td>0.121371</td>\n",
              "      <td>-0.222568</td>\n",
              "      <td>0.369849</td>\n",
              "      <td>0.500618</td>\n",
              "      <td>0.212433</td>\n",
              "      <td>0.176132</td>\n",
              "      <td>0.101502</td>\n",
              "      <td>0.126854</td>\n",
              "      <td>-0.401374</td>\n",
              "    </tr>\n",
              "    <tr>\n",
              "      <th>blood_urea</th>\n",
              "      <td>0.190669</td>\n",
              "      <td>0.183970</td>\n",
              "      <td>-0.249370</td>\n",
              "      <td>0.346935</td>\n",
              "      <td>0.126043</td>\n",
              "      <td>-0.236322</td>\n",
              "      <td>-0.344048</td>\n",
              "      <td>0.184415</td>\n",
              "      <td>0.158444</td>\n",
              "      <td>0.127489</td>\n",
              "      <td>...</td>\n",
              "      <td>-0.525982</td>\n",
              "      <td>0.041510</td>\n",
              "      <td>-0.465930</td>\n",
              "      <td>0.388383</td>\n",
              "      <td>0.312520</td>\n",
              "      <td>0.223553</td>\n",
              "      <td>0.272994</td>\n",
              "      <td>0.338274</td>\n",
              "      <td>0.435425</td>\n",
              "      <td>-0.372033</td>\n",
              "    </tr>\n",
              "    <tr>\n",
              "      <th>serum_creatinine</th>\n",
              "      <td>0.128292</td>\n",
              "      <td>0.144359</td>\n",
              "      <td>-0.176146</td>\n",
              "      <td>0.160252</td>\n",
              "      <td>0.094565</td>\n",
              "      <td>-0.138394</td>\n",
              "      <td>-0.157896</td>\n",
              "      <td>0.049940</td>\n",
              "      <td>0.050830</td>\n",
              "      <td>0.082242</td>\n",
              "      <td>...</td>\n",
              "      <td>-0.341853</td>\n",
              "      <td>-0.005420</td>\n",
              "      <td>-0.323146</td>\n",
              "      <td>0.274841</td>\n",
              "      <td>0.205491</td>\n",
              "      <td>0.192273</td>\n",
              "      <td>0.161511</td>\n",
              "      <td>0.176581</td>\n",
              "      <td>0.235791</td>\n",
              "      <td>-0.294079</td>\n",
              "    </tr>\n",
              "    <tr>\n",
              "      <th>sodium</th>\n",
              "      <td>-0.086552</td>\n",
              "      <td>-0.103220</td>\n",
              "      <td>0.217473</td>\n",
              "      <td>-0.228076</td>\n",
              "      <td>-0.053452</td>\n",
              "      <td>0.140572</td>\n",
              "      <td>0.173323</td>\n",
              "      <td>-0.142135</td>\n",
              "      <td>-0.081733</td>\n",
              "      <td>-0.154393</td>\n",
              "      <td>...</td>\n",
              "      <td>0.346817</td>\n",
              "      <td>0.006334</td>\n",
              "      <td>0.316956</td>\n",
              "      <td>-0.307294</td>\n",
              "      <td>-0.266968</td>\n",
              "      <td>-0.219764</td>\n",
              "      <td>-0.159787</td>\n",
              "      <td>-0.150240</td>\n",
              "      <td>-0.199029</td>\n",
              "      <td>0.342288</td>\n",
              "    </tr>\n",
              "    <tr>\n",
              "      <th>potassium</th>\n",
              "      <td>0.049315</td>\n",
              "      <td>0.066648</td>\n",
              "      <td>-0.063324</td>\n",
              "      <td>0.111614</td>\n",
              "      <td>0.180067</td>\n",
              "      <td>0.018192</td>\n",
              "      <td>-0.158750</td>\n",
              "      <td>-0.006316</td>\n",
              "      <td>-0.002688</td>\n",
              "      <td>0.056695</td>\n",
              "      <td>...</td>\n",
              "      <td>-0.123264</td>\n",
              "      <td>-0.074048</td>\n",
              "      <td>-0.120456</td>\n",
              "      <td>0.056565</td>\n",
              "      <td>0.061413</td>\n",
              "      <td>0.005761</td>\n",
              "      <td>-0.017388</td>\n",
              "      <td>0.061018</td>\n",
              "      <td>0.101299</td>\n",
              "      <td>-0.076921</td>\n",
              "    </tr>\n",
              "    <tr>\n",
              "      <th>haemoglobin</th>\n",
              "      <td>-0.182737</td>\n",
              "      <td>-0.279535</td>\n",
              "      <td>0.492143</td>\n",
              "      <td>-0.474211</td>\n",
              "      <td>-0.156876</td>\n",
              "      <td>0.280990</td>\n",
              "      <td>0.411500</td>\n",
              "      <td>-0.275763</td>\n",
              "      <td>-0.204954</td>\n",
              "      <td>-0.269149</td>\n",
              "      <td>...</td>\n",
              "      <td>0.854962</td>\n",
              "      <td>-0.153818</td>\n",
              "      <td>0.682257</td>\n",
              "      <td>-0.580775</td>\n",
              "      <td>-0.468059</td>\n",
              "      <td>-0.280461</td>\n",
              "      <td>-0.391144</td>\n",
              "      <td>-0.382765</td>\n",
              "      <td>-0.555807</td>\n",
              "      <td>0.729628</td>\n",
              "    </tr>\n",
              "    <tr>\n",
              "      <th>packed_cell_volume</th>\n",
              "      <td>-0.217882</td>\n",
              "      <td>-0.292714</td>\n",
              "      <td>0.501064</td>\n",
              "      <td>-0.475165</td>\n",
              "      <td>-0.181518</td>\n",
              "      <td>0.280958</td>\n",
              "      <td>0.418580</td>\n",
              "      <td>-0.294242</td>\n",
              "      <td>-0.189822</td>\n",
              "      <td>-0.267580</td>\n",
              "      <td>...</td>\n",
              "      <td>1.000000</td>\n",
              "      <td>-0.183396</td>\n",
              "      <td>0.703618</td>\n",
              "      <td>-0.572223</td>\n",
              "      <td>-0.454699</td>\n",
              "      <td>-0.294597</td>\n",
              "      <td>-0.391224</td>\n",
              "      <td>-0.394946</td>\n",
              "      <td>-0.514491</td>\n",
              "      <td>0.690060</td>\n",
              "    </tr>\n",
              "    <tr>\n",
              "      <th>white_blood_cell_count</th>\n",
              "      <td>0.099872</td>\n",
              "      <td>0.026067</td>\n",
              "      <td>-0.206884</td>\n",
              "      <td>0.207303</td>\n",
              "      <td>0.159034</td>\n",
              "      <td>-0.002207</td>\n",
              "      <td>-0.107886</td>\n",
              "      <td>0.163456</td>\n",
              "      <td>0.103546</td>\n",
              "      <td>0.121371</td>\n",
              "      <td>...</td>\n",
              "      <td>-0.183396</td>\n",
              "      <td>1.000000</td>\n",
              "      <td>-0.151360</td>\n",
              "      <td>0.122173</td>\n",
              "      <td>0.152696</td>\n",
              "      <td>0.008370</td>\n",
              "      <td>0.149332</td>\n",
              "      <td>0.135872</td>\n",
              "      <td>0.036514</td>\n",
              "      <td>-0.205274</td>\n",
              "    </tr>\n",
              "    <tr>\n",
              "      <th>red_blood_cell_count</th>\n",
              "      <td>-0.202618</td>\n",
              "      <td>-0.220822</td>\n",
              "      <td>0.443741</td>\n",
              "      <td>-0.411122</td>\n",
              "      <td>-0.163871</td>\n",
              "      <td>0.202455</td>\n",
              "      <td>0.383240</td>\n",
              "      <td>-0.267982</td>\n",
              "      <td>-0.192222</td>\n",
              "      <td>-0.222568</td>\n",
              "      <td>...</td>\n",
              "      <td>0.703618</td>\n",
              "      <td>-0.151360</td>\n",
              "      <td>1.000000</td>\n",
              "      <td>-0.528346</td>\n",
              "      <td>-0.421980</td>\n",
              "      <td>-0.295561</td>\n",
              "      <td>-0.398133</td>\n",
              "      <td>-0.338635</td>\n",
              "      <td>-0.397659</td>\n",
              "      <td>0.590913</td>\n",
              "    </tr>\n",
              "    <tr>\n",
              "      <th>hypertension</th>\n",
              "      <td>0.396749</td>\n",
              "      <td>0.270447</td>\n",
              "      <td>-0.323643</td>\n",
              "      <td>0.406057</td>\n",
              "      <td>0.254268</td>\n",
              "      <td>-0.140538</td>\n",
              "      <td>-0.291719</td>\n",
              "      <td>0.195623</td>\n",
              "      <td>0.089046</td>\n",
              "      <td>0.369849</td>\n",
              "      <td>...</td>\n",
              "      <td>-0.572223</td>\n",
              "      <td>0.122173</td>\n",
              "      <td>-0.528346</td>\n",
              "      <td>1.000000</td>\n",
              "      <td>0.608118</td>\n",
              "      <td>0.325479</td>\n",
              "      <td>0.345070</td>\n",
              "      <td>0.371026</td>\n",
              "      <td>0.347802</td>\n",
              "      <td>-0.590438</td>\n",
              "    </tr>\n",
              "    <tr>\n",
              "      <th>diabetesmellitus</th>\n",
              "      <td>0.364892</td>\n",
              "      <td>0.228250</td>\n",
              "      <td>-0.351016</td>\n",
              "      <td>0.308101</td>\n",
              "      <td>0.430514</td>\n",
              "      <td>-0.145646</td>\n",
              "      <td>-0.201032</td>\n",
              "      <td>0.165236</td>\n",
              "      <td>0.080070</td>\n",
              "      <td>0.500618</td>\n",
              "      <td>...</td>\n",
              "      <td>-0.454699</td>\n",
              "      <td>0.152696</td>\n",
              "      <td>-0.421980</td>\n",
              "      <td>0.608118</td>\n",
              "      <td>1.000000</td>\n",
              "      <td>0.271172</td>\n",
              "      <td>0.325134</td>\n",
              "      <td>0.308463</td>\n",
              "      <td>0.183686</td>\n",
              "      <td>-0.559060</td>\n",
              "    </tr>\n",
              "    <tr>\n",
              "      <th>coronary_artery_disease</th>\n",
              "      <td>0.228872</td>\n",
              "      <td>0.086618</td>\n",
              "      <td>-0.135814</td>\n",
              "      <td>0.200957</td>\n",
              "      <td>0.229301</td>\n",
              "      <td>-0.111493</td>\n",
              "      <td>-0.172295</td>\n",
              "      <td>0.188029</td>\n",
              "      <td>0.162395</td>\n",
              "      <td>0.212433</td>\n",
              "      <td>...</td>\n",
              "      <td>-0.294597</td>\n",
              "      <td>0.008370</td>\n",
              "      <td>-0.295561</td>\n",
              "      <td>0.325479</td>\n",
              "      <td>0.271172</td>\n",
              "      <td>1.000000</td>\n",
              "      <td>0.156104</td>\n",
              "      <td>0.172295</td>\n",
              "      <td>0.047700</td>\n",
              "      <td>-0.236088</td>\n",
              "    </tr>\n",
              "    <tr>\n",
              "      <th>appetite</th>\n",
              "      <td>0.154683</td>\n",
              "      <td>0.177601</td>\n",
              "      <td>-0.230975</td>\n",
              "      <td>0.303145</td>\n",
              "      <td>0.069216</td>\n",
              "      <td>-0.160868</td>\n",
              "      <td>-0.274985</td>\n",
              "      <td>0.189688</td>\n",
              "      <td>0.149126</td>\n",
              "      <td>0.176132</td>\n",
              "      <td>...</td>\n",
              "      <td>-0.391224</td>\n",
              "      <td>0.149332</td>\n",
              "      <td>-0.398133</td>\n",
              "      <td>0.345070</td>\n",
              "      <td>0.325134</td>\n",
              "      <td>0.156104</td>\n",
              "      <td>1.000000</td>\n",
              "      <td>0.417055</td>\n",
              "      <td>0.254942</td>\n",
              "      <td>-0.393341</td>\n",
              "    </tr>\n",
              "    <tr>\n",
              "      <th>pedal_edema</th>\n",
              "      <td>0.095099</td>\n",
              "      <td>0.054083</td>\n",
              "      <td>-0.253803</td>\n",
              "      <td>0.411080</td>\n",
              "      <td>0.116442</td>\n",
              "      <td>-0.199285</td>\n",
              "      <td>-0.350227</td>\n",
              "      <td>0.104356</td>\n",
              "      <td>0.134732</td>\n",
              "      <td>0.101502</td>\n",
              "      <td>...</td>\n",
              "      <td>-0.394946</td>\n",
              "      <td>0.135872</td>\n",
              "      <td>-0.338635</td>\n",
              "      <td>0.371026</td>\n",
              "      <td>0.308463</td>\n",
              "      <td>0.172295</td>\n",
              "      <td>0.417055</td>\n",
              "      <td>1.000000</td>\n",
              "      <td>0.207025</td>\n",
              "      <td>-0.375154</td>\n",
              "    </tr>\n",
              "    <tr>\n",
              "      <th>anemia</th>\n",
              "      <td>0.056215</td>\n",
              "      <td>0.194962</td>\n",
              "      <td>-0.184155</td>\n",
              "      <td>0.229556</td>\n",
              "      <td>0.042464</td>\n",
              "      <td>-0.107625</td>\n",
              "      <td>-0.260566</td>\n",
              "      <td>0.175861</td>\n",
              "      <td>0.052208</td>\n",
              "      <td>0.126854</td>\n",
              "      <td>...</td>\n",
              "      <td>-0.514491</td>\n",
              "      <td>0.036514</td>\n",
              "      <td>-0.397659</td>\n",
              "      <td>0.347802</td>\n",
              "      <td>0.183686</td>\n",
              "      <td>0.047700</td>\n",
              "      <td>0.254942</td>\n",
              "      <td>0.207025</td>\n",
              "      <td>1.000000</td>\n",
              "      <td>-0.325396</td>\n",
              "    </tr>\n",
              "    <tr>\n",
              "      <th>class</th>\n",
              "      <td>-0.230926</td>\n",
              "      <td>-0.290600</td>\n",
              "      <td>0.659504</td>\n",
              "      <td>-0.531562</td>\n",
              "      <td>-0.294555</td>\n",
              "      <td>0.282642</td>\n",
              "      <td>0.375154</td>\n",
              "      <td>-0.265313</td>\n",
              "      <td>-0.186871</td>\n",
              "      <td>-0.401374</td>\n",
              "      <td>...</td>\n",
              "      <td>0.690060</td>\n",
              "      <td>-0.205274</td>\n",
              "      <td>0.590913</td>\n",
              "      <td>-0.590438</td>\n",
              "      <td>-0.559060</td>\n",
              "      <td>-0.236088</td>\n",
              "      <td>-0.393341</td>\n",
              "      <td>-0.375154</td>\n",
              "      <td>-0.325396</td>\n",
              "      <td>1.000000</td>\n",
              "    </tr>\n",
              "  </tbody>\n",
              "</table>\n",
              "<p>25 rows × 25 columns</p>\n",
              "</div>\n",
              "      <button class=\"colab-df-convert\" onclick=\"convertToInteractive('df-eec6a1cc-b680-4137-96dc-d1bd2f61816c')\"\n",
              "              title=\"Convert this dataframe to an interactive table.\"\n",
              "              style=\"display:none;\">\n",
              "        \n",
              "  <svg xmlns=\"http://www.w3.org/2000/svg\" height=\"24px\"viewBox=\"0 0 24 24\"\n",
              "       width=\"24px\">\n",
              "    <path d=\"M0 0h24v24H0V0z\" fill=\"none\"/>\n",
              "    <path d=\"M18.56 5.44l.94 2.06.94-2.06 2.06-.94-2.06-.94-.94-2.06-.94 2.06-2.06.94zm-11 1L8.5 8.5l.94-2.06 2.06-.94-2.06-.94L8.5 2.5l-.94 2.06-2.06.94zm10 10l.94 2.06.94-2.06 2.06-.94-2.06-.94-.94-2.06-.94 2.06-2.06.94z\"/><path d=\"M17.41 7.96l-1.37-1.37c-.4-.4-.92-.59-1.43-.59-.52 0-1.04.2-1.43.59L10.3 9.45l-7.72 7.72c-.78.78-.78 2.05 0 2.83L4 21.41c.39.39.9.59 1.41.59.51 0 1.02-.2 1.41-.59l7.78-7.78 2.81-2.81c.8-.78.8-2.07 0-2.86zM5.41 20L4 18.59l7.72-7.72 1.47 1.35L5.41 20z\"/>\n",
              "  </svg>\n",
              "      </button>\n",
              "      \n",
              "  <style>\n",
              "    .colab-df-container {\n",
              "      display:flex;\n",
              "      flex-wrap:wrap;\n",
              "      gap: 12px;\n",
              "    }\n",
              "\n",
              "    .colab-df-convert {\n",
              "      background-color: #E8F0FE;\n",
              "      border: none;\n",
              "      border-radius: 50%;\n",
              "      cursor: pointer;\n",
              "      display: none;\n",
              "      fill: #1967D2;\n",
              "      height: 32px;\n",
              "      padding: 0 0 0 0;\n",
              "      width: 32px;\n",
              "    }\n",
              "\n",
              "    .colab-df-convert:hover {\n",
              "      background-color: #E2EBFA;\n",
              "      box-shadow: 0px 1px 2px rgba(60, 64, 67, 0.3), 0px 1px 3px 1px rgba(60, 64, 67, 0.15);\n",
              "      fill: #174EA6;\n",
              "    }\n",
              "\n",
              "    [theme=dark] .colab-df-convert {\n",
              "      background-color: #3B4455;\n",
              "      fill: #D2E3FC;\n",
              "    }\n",
              "\n",
              "    [theme=dark] .colab-df-convert:hover {\n",
              "      background-color: #434B5C;\n",
              "      box-shadow: 0px 1px 3px 1px rgba(0, 0, 0, 0.15);\n",
              "      filter: drop-shadow(0px 1px 2px rgba(0, 0, 0, 0.3));\n",
              "      fill: #FFFFFF;\n",
              "    }\n",
              "  </style>\n",
              "\n",
              "      <script>\n",
              "        const buttonEl =\n",
              "          document.querySelector('#df-eec6a1cc-b680-4137-96dc-d1bd2f61816c button.colab-df-convert');\n",
              "        buttonEl.style.display =\n",
              "          google.colab.kernel.accessAllowed ? 'block' : 'none';\n",
              "\n",
              "        async function convertToInteractive(key) {\n",
              "          const element = document.querySelector('#df-eec6a1cc-b680-4137-96dc-d1bd2f61816c');\n",
              "          const dataTable =\n",
              "            await google.colab.kernel.invokeFunction('convertToInteractive',\n",
              "                                                     [key], {});\n",
              "          if (!dataTable) return;\n",
              "\n",
              "          const docLinkHtml = 'Like what you see? Visit the ' +\n",
              "            '<a target=\"_blank\" href=https://colab.research.google.com/notebooks/data_table.ipynb>data table notebook</a>'\n",
              "            + ' to learn more about interactive tables.';\n",
              "          element.innerHTML = '';\n",
              "          dataTable['output_type'] = 'display_data';\n",
              "          await google.colab.output.renderOutput(dataTable, element);\n",
              "          const docLink = document.createElement('div');\n",
              "          docLink.innerHTML = docLinkHtml;\n",
              "          element.appendChild(docLink);\n",
              "        }\n",
              "      </script>\n",
              "    </div>\n",
              "  </div>\n",
              "  "
            ]
          },
          "metadata": {},
          "execution_count": 39
        }
      ]
    },
    {
      "cell_type": "code",
      "source": [
        "plt.figure(figsize=(20,20))\n",
        "sns.heatmap(data.corr(),cmap=\"Greens\",annot=True)"
      ],
      "metadata": {
        "colab": {
          "base_uri": "https://localhost:8080/",
          "height": 1000
        },
        "id": "7OHayMTr2yHs",
        "outputId": "10d96d8d-c450-48e1-d310-bb7b812adb9b"
      },
      "execution_count": 40,
      "outputs": [
        {
          "output_type": "execute_result",
          "data": {
            "text/plain": [
              "<matplotlib.axes._subplots.AxesSubplot at 0x7fdd39d8a110>"
            ]
          },
          "metadata": {},
          "execution_count": 40
        },
        {
          "output_type": "display_data",
          "data": {
            "text/plain": [
              "<Figure size 1440x1440 with 2 Axes>"
            ],
            "image/png": "[encoded data removed]"
          },
          "metadata": {
            "needs_background": "light"
          }
        }
      ]
    },
    {
      "cell_type": "markdown",
      "source": [
        "## Null values"
      ],
      "metadata": {
        "id": "ARpi_HyG_wuu"
      }
    },
    {
      "cell_type": "code",
      "source": [
        "data.isnull().any()"
      ],
      "metadata": {
        "colab": {
          "base_uri": "https://localhost:8080/"
        },
        "id": "ddQ1CCaLkGgB",
        "outputId": "40986054-d644-4c37-f8ad-594149430346"
      },
      "execution_count": 41,
      "outputs": [
        {
          "output_type": "execute_result",
          "data": {
            "text/plain": [
              "age                        False\n",
              "blood_pressure             False\n",
              "specific_gravity           False\n",
              "albumin                    False\n",
              "sugar                      False\n",
              "red_blood_cells            False\n",
              "pus_cells                  False\n",
              "pus_cell_clumps            False\n",
              "bacteria                   False\n",
              "blood_glucose_random       False\n",
              "blood_urea                 False\n",
              "serum_creatinine           False\n",
              "sodium                     False\n",
              "potassium                  False\n",
              "haemoglobin                False\n",
              "packed_cell_volume         False\n",
              "white_blood_cell_count     False\n",
              "red_blood_cell_count       False\n",
              "hypertension               False\n",
              "diabetesmellitus           False\n",
              "coronary_artery_disease    False\n",
              "appetite                   False\n",
              "pedal_edema                False\n",
              "anemia                     False\n",
              "class                      False\n",
              "dtype: bool"
            ]
          },
          "metadata": {},
          "execution_count": 41
        }
      ]
    },
    {
      "cell_type": "code",
      "source": [
        "data.isnull().sum() "
      ],
      "metadata": {
        "colab": {
          "base_uri": "https://localhost:8080/"
        },
        "id": "5YRJN1KBkLkM",
        "outputId": "082d846b-449c-462f-e550-bb632a38d56f"
      },
      "execution_count": 42,
      "outputs": [
        {
          "output_type": "execute_result",
          "data": {
            "text/plain": [
              "age                        0\n",
              "blood_pressure             0\n",
              "specific_gravity           0\n",
              "albumin                    0\n",
              "sugar                      0\n",
              "red_blood_cells            0\n",
              "pus_cells                  0\n",
              "pus_cell_clumps            0\n",
              "bacteria                   0\n",
              "blood_glucose_random       0\n",
              "blood_urea                 0\n",
              "serum_creatinine           0\n",
              "sodium                     0\n",
              "potassium                  0\n",
              "haemoglobin                0\n",
              "packed_cell_volume         0\n",
              "white_blood_cell_count     0\n",
              "red_blood_cell_count       0\n",
              "hypertension               0\n",
              "diabetesmellitus           0\n",
              "coronary_artery_disease    0\n",
              "appetite                   0\n",
              "pedal_edema                0\n",
              "anemia                     0\n",
              "class                      0\n",
              "dtype: int64"
            ]
          },
          "metadata": {},
          "execution_count": 42
        }
      ]
    },
    {
      "cell_type": "code",
      "source": [
        "data.packed_cell_volume=pd.to_numeric(data.packed_cell_volume,errors='coerce')\n",
        "data.white_blood_cell_count=pd.to_numeric(data.white_blood_cell_count,errors='coerce')\n",
        "data.red_blood_cell_count=pd.to_numeric(data.red_blood_cell_count,errors='coerce')\n"
      ],
      "metadata": {
        "id": "6Z8CwBPivVBq"
      },
      "execution_count": 15,
      "outputs": []
    },
    {
      "cell_type": "markdown",
      "source": [
        "## Handling continuous/numeric columns null values"
      ],
      "metadata": {
        "id": "zvaOShJyAg8U"
      }
    },
    {
      "cell_type": "code",
      "source": [
        "data['blood_glucose_random'].fillna(data['blood_glucose_random'].mean(),inplace=True)\n",
        "data['blood_pressure'].fillna(data['blood_pressure'].mean(),inplace=True)\n",
        "data['blood_urea'].fillna(data['blood_urea'].mean(),inplace=True)\n",
        "data['haemoglobin'].fillna(data['haemoglobin'].mean(),inplace=True)\n",
        "data['packed_cell_volume'].fillna(data['packed_cell_volume'].mean(),inplace=True)\n",
        "data['potassium'].fillna(data['potassium'].mean(),inplace=True)\n",
        "data['red_blood_cell_count'].fillna(data['red_blood_cell_count'].mean(),inplace=True)\n",
        "data['serum_creatinine'].fillna(data['serum_creatinine'].mean(),inplace=True)\n",
        "data['sodium'].fillna(data['sodium'].mean(),inplace=True)\n",
        "data['white_blood_cell_count'].fillna(data['white_blood_cell_count'].mean(),inplace=True)\n"
      ],
      "metadata": {
        "id": "Sw1aqB4bvgIU"
      },
      "execution_count": 16,
      "outputs": []
    },
    {
      "cell_type": "markdown",
      "source": [
        "## Handling continuous columns null values"
      ],
      "metadata": {
        "id": "-KFvAYl4AlPH"
      }
    },
    {
      "cell_type": "code",
      "source": [
        "data['age'].fillna(data['age'].mode()[0],inplace=True)\n",
        "data['hypertension'].fillna(data['hypertension'].mode()[0],inplace=True)\n",
        "data['pus_cell_clumps'].fillna(data['pus_cell_clumps'].mode()[0],inplace=True)\n",
        "data['appetite'].fillna(data['appetite'].mode()[0],inplace=True)\n",
        "data['albumin'].fillna(data['albumin'].mode()[0],inplace=True)\n",
        "data['pus_cells'].fillna(data['pus_cells'].mode()[0],inplace=True)\n",
        "data['red_blood_cells'].fillna(data['red_blood_cells'].mode()[0],inplace=True)\n",
        "data['coronary_artery_disease'].fillna(data['coronary_artery_disease'].mode()[0],inplace=True)\n",
        "data['bacteria'].fillna(data['bacteria'].mode()[0],inplace=True)\n",
        "data['anemia'].fillna(data['anemia'].mode()[0],inplace=True)\n",
        "data['sugar'].fillna(data['sugar'].mode()[0],inplace=True)\n",
        "data['diabetesmellitus'].fillna(data['diabetesmellitus'].mode()[0],inplace=True)\n",
        "data['pedal_edema'].fillna(data['pedal_edema'].mode()[0],inplace=True)\n",
        "data['specific_gravity'].fillna(data['specific_gravity'].mode()[0],inplace=True)"
      ],
      "metadata": {
        "id": "vXTlnatyv2YP"
      },
      "execution_count": 17,
      "outputs": []
    },
    {
      "cell_type": "markdown",
      "source": [
        "## Checking if there are any null values after resolving it"
      ],
      "metadata": {
        "id": "L724euFgAvVg"
      }
    },
    {
      "cell_type": "code",
      "source": [
        "data.isnull().sum()"
      ],
      "metadata": {
        "colab": {
          "base_uri": "https://localhost:8080/"
        },
        "id": "QdrRPL1l5l3G",
        "outputId": "b2c1c513-4913-4e15-8982-fcacadfd85c0"
      },
      "execution_count": 18,
      "outputs": [
        {
          "output_type": "execute_result",
          "data": {
            "text/plain": [
              "age                        0\n",
              "blood_pressure             0\n",
              "specific_gravity           0\n",
              "albumin                    0\n",
              "sugar                      0\n",
              "red_blood_cells            0\n",
              "pus_cells                  0\n",
              "pus_cell_clumps            0\n",
              "bacteria                   0\n",
              "blood_glucose_random       0\n",
              "blood_urea                 0\n",
              "serum_creatinine           0\n",
              "sodium                     0\n",
              "potassium                  0\n",
              "haemoglobin                0\n",
              "packed_cell_volume         0\n",
              "white_blood_cell_count     0\n",
              "red_blood_cell_count       0\n",
              "hypertension               0\n",
              "diabetesmellitus           0\n",
              "coronary_artery_disease    0\n",
              "appetite                   0\n",
              "pedal_edema                0\n",
              "anemia                     0\n",
              "class                      0\n",
              "dtype: int64"
            ]
          },
          "metadata": {},
          "execution_count": 18
        }
      ]
    },
    {
      "cell_type": "markdown",
      "source": [
        "## Label encoding"
      ],
      "metadata": {
        "id": "NGvkuYTlA6IM"
      }
    },
    {
      "cell_type": "code",
      "source": [
        "\n",
        "for i in categorical_columns:\n",
        "    print(\"LABEL ENCODING OF:\",i)\n",
        "    Le=LabelEncoder()\n",
        "    print(c(data[i]))\n",
        "    data[i]=Le.fit_transform(data[i])\n",
        "    print(c(data[i]))\n",
        "    print(\"*\"*100)"
      ],
      "metadata": {
        "colab": {
          "base_uri": "https://localhost:8080/"
        },
        "id": "mzhLRewpwEvn",
        "outputId": "9f0aad08-ecb1-47cc-cb25-cc4ffe5f0e54"
      },
      "execution_count": 19,
      "outputs": [
        {
          "output_type": "stream",
          "name": "stdout",
          "text": [
            "LABEL ENCODING OF: pus_cells\n",
            "Counter({'normal': 324, 'abnormal': 76})\n",
            "Counter({1: 324, 0: 76})\n",
            "****************************************************************************************************\n",
            "LABEL ENCODING OF: albumin\n",
            "Counter({0.0: 245, 1.0: 44, 2.0: 43, 3.0: 43, 4.0: 24, 5.0: 1})\n",
            "Counter({0: 245, 1: 44, 2: 43, 3: 43, 4: 24, 5: 1})\n",
            "****************************************************************************************************\n",
            "LABEL ENCODING OF: hypertension\n",
            "Counter({'no': 253, 'yes': 147})\n",
            "Counter({0: 253, 1: 147})\n",
            "****************************************************************************************************\n",
            "LABEL ENCODING OF: specific_gravity\n",
            "Counter({1.02: 153, 1.01: 84, 1.025: 81, 1.015: 75, 1.005: 7})\n",
            "Counter({3: 153, 1: 84, 4: 81, 2: 75, 0: 7})\n",
            "****************************************************************************************************\n",
            "LABEL ENCODING OF: coronary_artery_disease\n",
            "Counter({'no': 366, 'yes': 34})\n",
            "Counter({0: 366, 1: 34})\n",
            "****************************************************************************************************\n",
            "LABEL ENCODING OF: red_blood_cells\n",
            "Counter({'normal': 353, 'abnormal': 47})\n",
            "Counter({1: 353, 0: 47})\n",
            "****************************************************************************************************\n",
            "LABEL ENCODING OF: anemia\n",
            "Counter({'no': 340, 'yes': 60})\n",
            "Counter({0: 340, 1: 60})\n",
            "****************************************************************************************************\n",
            "LABEL ENCODING OF: pus_cell_clumps\n",
            "Counter({'notpresent': 358, 'present': 42})\n",
            "Counter({0: 358, 1: 42})\n",
            "****************************************************************************************************\n",
            "LABEL ENCODING OF: sugar\n",
            "Counter({0.0: 339, 2.0: 18, 3.0: 14, 4.0: 13, 1.0: 13, 5.0: 3})\n",
            "Counter({0: 339, 2: 18, 3: 14, 4: 13, 1: 13, 5: 3})\n",
            "****************************************************************************************************\n",
            "LABEL ENCODING OF: diabetesmellitus\n",
            "Counter({'no': 263, 'yes': 137})\n",
            "Counter({0: 263, 1: 137})\n",
            "****************************************************************************************************\n",
            "LABEL ENCODING OF: appetite\n",
            "Counter({'good': 318, 'poor': 82})\n",
            "Counter({0: 318, 1: 82})\n",
            "****************************************************************************************************\n",
            "LABEL ENCODING OF: pedal_edema\n",
            "Counter({'no': 324, 'yes': 76})\n",
            "Counter({0: 324, 1: 76})\n",
            "****************************************************************************************************\n",
            "LABEL ENCODING OF: class\n",
            "Counter({'ckd': 250, 'notckd': 150})\n",
            "Counter({0: 250, 1: 150})\n",
            "****************************************************************************************************\n",
            "LABEL ENCODING OF: bacteria\n",
            "Counter({'notpresent': 378, 'present': 22})\n",
            "Counter({0: 378, 1: 22})\n",
            "****************************************************************************************************\n"
          ]
        }
      ]
    },
    {
      "cell_type": "markdown",
      "source": [
        "## Creating dependent and independent variables"
      ],
      "metadata": {
        "id": "4FDNrSLOBA3h"
      }
    },
    {
      "cell_type": "code",
      "source": [
        "selected_columns=['red_blood_cells','pus_cells','blood_glucose_random','blood_urea','pedal_edema','anemia',\n",
        "                  'diabetesmellitus','coronary_artery_disease']\n",
        "x=pd.DataFrame(data,columns=selected_columns)\n",
        "y=pd.DataFrame(data,columns=['class'])\n",
        "print(x.shape)\n",
        "print(y.shape)"
      ],
      "metadata": {
        "colab": {
          "base_uri": "https://localhost:8080/"
        },
        "id": "zw4gUA7DwHva",
        "outputId": "f5b1d858-2b23-4cdf-d980-571d0581c677"
      },
      "execution_count": 20,
      "outputs": [
        {
          "output_type": "stream",
          "name": "stdout",
          "text": [
            "(400, 8)\n",
            "(400, 1)\n"
          ]
        }
      ]
    },
    {
      "cell_type": "markdown",
      "source": [
        "## Splitting the data into train and test"
      ],
      "metadata": {
        "id": "FGa6EvJaBD2L"
      }
    },
    {
      "cell_type": "code",
      "source": [
        "\n",
        "x_train,x_test,y_train,y_test=train_test_split(x,y,test_size=0.2,random_state=2)\n",
        "print(x_train.shape)\n",
        "print(y_train.shape)\n",
        "print(x_test.shape)\n",
        "print(y_test.shape)"
      ],
      "metadata": {
        "colab": {
          "base_uri": "https://localhost:8080/"
        },
        "id": "fYWR4XVuwOmf",
        "outputId": "971b884f-3e8f-4a81-e3cf-ea0cf054a6f0"
      },
      "execution_count": 45,
      "outputs": [
        {
          "output_type": "stream",
          "name": "stdout",
          "text": [
            "(320, 8)\n",
            "(320, 1)\n",
            "(80, 8)\n",
            "(80, 1)\n"
          ]
        }
      ]
    },
    {
      "cell_type": "markdown",
      "source": [
        "## Build a machine learning model"
      ],
      "metadata": {
        "id": "BFZ33lPqBHZH"
      }
    },
    {
      "cell_type": "code",
      "source": [
        "from sklearn.linear_model import LogisticRegression\n",
        "lgr=LogisticRegression()\n",
        "lgr.fit(x_train, y_train)"
      ],
      "metadata": {
        "colab": {
          "base_uri": "https://localhost:8080/"
        },
        "id": "RHnVD1Omwe1h",
        "outputId": "b1fd8231-77c5-4c09-b125-dfdf4d22e3a8"
      },
      "execution_count": 46,
      "outputs": [
        {
          "output_type": "execute_result",
          "data": {
            "text/plain": [
              "LogisticRegression()"
            ]
          },
          "metadata": {},
          "execution_count": 46
        }
      ]
    },
    {
      "cell_type": "code",
      "source": [
        "y_pred=lgr.predict(x_test)\n",
        "y_pred1=lgr.predict([[129,99,1,0,0,1,0,1]])\n",
        "print(y_pred)\n",
        "print(c(y_pred))\n",
        "print(y_pred1)"
      ],
      "metadata": {
        "id": "d5Idqjv98djD",
        "colab": {
          "base_uri": "https://localhost:8080/"
        },
        "outputId": "47058a2e-e8c1-4b7e-a45a-b7648f3af91f"
      },
      "execution_count": 47,
      "outputs": [
        {
          "output_type": "stream",
          "name": "stdout",
          "text": [
            "[0 0 0 0 1 0 0 0 1 0 0 0 1 1 0 0 0 1 1 0 1 1 0 1 0 1 0 0 1 0 0 1 0 0 0 0 1\n",
            " 0 0 1 0 1 0 0 0 1 0 1 1 1 0 0 0 1 0 1 0 1 1 0 0 1 1 0 0 0 0 1 0 1 1 0 0 1\n",
            " 0 1 0 1 1 0]\n",
            "Counter({0: 48, 1: 32})\n",
            "[1]\n"
          ]
        }
      ]
    },
    {
      "cell_type": "markdown",
      "source": [
        "## Accuracy score"
      ],
      "metadata": {
        "id": "E0mU-g3lBPWB"
      }
    },
    {
      "cell_type": "code",
      "source": [
        "accuracy_score(y_test,y_pred)"
      ],
      "metadata": {
        "id": "gYnxDA1Q0YkJ",
        "colab": {
          "base_uri": "https://localhost:8080/"
        },
        "outputId": "38936395-2c83-46f3-d2c6-2c427008a6c0"
      },
      "execution_count": 48,
      "outputs": [
        {
          "output_type": "execute_result",
          "data": {
            "text/plain": [
              "0.925"
            ]
          },
          "metadata": {},
          "execution_count": 48
        }
      ]
    },
    {
      "cell_type": "markdown",
      "source": [
        "## Confusion matrix"
      ],
      "metadata": {
        "id": "-yoeRGYIBMOq"
      }
    },
    {
      "cell_type": "code",
      "source": [
        "confusion_mat = confusion_matrix(y_test,y_pred)\n",
        "confusion_mat"
      ],
      "metadata": {
        "id": "gdCVsvf78gzk",
        "colab": {
          "base_uri": "https://localhost:8080/"
        },
        "outputId": "53260542-bd2a-4cff-c6f6-d591d55f6b5a"
      },
      "execution_count": 49,
      "outputs": [
        {
          "output_type": "execute_result",
          "data": {
            "text/plain": [
              "array([[48,  6],\n",
              "       [ 0, 26]])"
            ]
          },
          "metadata": {},
          "execution_count": 49
        }
      ]
    },
    {
      "cell_type": "markdown",
      "source": [
        "## Dumping our model into pickle form"
      ],
      "metadata": {
        "id": "z3wN8974BVM8"
      }
    },
    {
      "cell_type": "code",
      "source": [
        "pickle.dump(lgr,open('CKD.pkl','wb'))"
      ],
      "metadata": {
        "id": "lHjaJYPD0hi-"
      },
      "execution_count": 50,
      "outputs": []
    }
  ]
}